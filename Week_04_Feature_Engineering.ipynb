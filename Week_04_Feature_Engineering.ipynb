{
  "nbformat": 4,
  "nbformat_minor": 0,
  "metadata": {
    "colab": {
      "provenance": [],
      "include_colab_link": true
    },
    "kernelspec": {
      "name": "python3",
      "display_name": "Python 3"
    },
    "language_info": {
      "name": "python"
    }
  },
  "cells": [
    {
      "cell_type": "markdown",
      "metadata": {
        "id": "view-in-github",
        "colab_type": "text"
      },
      "source": [
        "<a href=\"https://colab.research.google.com/github/andrewxu13/TextAnalytics/blob/main/Week_04_Feature_Engineering.ipynb\" target=\"_parent\"><img src=\"https://colab.research.google.com/assets/colab-badge.svg\" alt=\"Open In Colab\"/></a>"
      ]
    },
    {
      "cell_type": "markdown",
      "source": [
        "# Regex\n",
        "Regular Expression\n",
        "https://docs.python.org/3/howto/regex.html"
      ],
      "metadata": {
        "id": "mR_SfcAjvCBe"
      }
    },
    {
      "cell_type": "code",
      "source": [
        "import re"
      ],
      "metadata": {
        "id": "r0KVUoT9vFON"
      },
      "execution_count": null,
      "outputs": []
    },
    {
      "cell_type": "code",
      "source": [
        "#search\n",
        "regex = re.compile(\"\\d{3}-\\d{3}-\\d{4}\") # create the regex as a compiler"
      ],
      "metadata": {
        "id": "za9YRloPvH_3"
      },
      "execution_count": null,
      "outputs": []
    },
    {
      "cell_type": "code",
      "source": [
        "x1 ='If you want to call the White house, please use 202-456-1111'\n",
        "x2 ='If you want to call the White house, please use (202)456-1111'\n",
        "x3 ='If you want to call the White house, please use (202) 456-1111'\n",
        "x4 ='If you want to call the White house, please use 2024561111'\n",
        "x5 ='If you want to call the White house, please use 202.456.1111'\n",
        "x6 ='If you want to call the White house, please use 202 456 1111'\n",
        "x7 ='If you want to call the White house, please use 202 456 1111'\n",
        "x8 =' If you want to call the White house, please use 202-456-1111. Dial 212-897-1964 to get a very special #Ghostbusters message!'"
      ],
      "metadata": {
        "id": "UlvUQ9YPvWVF"
      },
      "execution_count": null,
      "outputs": []
    },
    {
      "cell_type": "markdown",
      "source": [
        "## Regex findall function"
      ],
      "metadata": {
        "id": "CAI_evHbwTfd"
      }
    },
    {
      "cell_type": "code",
      "source": [
        "re.findall(regex, x1) #return the match"
      ],
      "metadata": {
        "colab": {
          "base_uri": "https://localhost:8080/"
        },
        "id": "5sI85gcOwkF7",
        "outputId": "128f543b-a4e9-464e-e2f1-ea2d70390c90"
      },
      "execution_count": null,
      "outputs": [
        {
          "output_type": "execute_result",
          "data": {
            "text/plain": [
              "['202-456-1111']"
            ]
          },
          "metadata": {},
          "execution_count": 4
        }
      ]
    },
    {
      "cell_type": "code",
      "source": [
        "re.findall(regex, x2) #return the match"
      ],
      "metadata": {
        "colab": {
          "base_uri": "https://localhost:8080/"
        },
        "id": "hWgnbib3kIpH",
        "outputId": "e2c5408c-a836-4616-ef91-11937dcd3b29"
      },
      "execution_count": null,
      "outputs": [
        {
          "output_type": "execute_result",
          "data": {
            "text/plain": [
              "[]"
            ]
          },
          "metadata": {},
          "execution_count": 5
        }
      ]
    },
    {
      "cell_type": "code",
      "source": [
        "re.findall(regex, x8) #can return all the matches"
      ],
      "metadata": {
        "colab": {
          "base_uri": "https://localhost:8080/"
        },
        "id": "Coak1JocxHWX",
        "outputId": "b91152b3-154b-454c-c1e2-6fca0bb1c32d"
      },
      "execution_count": null,
      "outputs": [
        {
          "output_type": "execute_result",
          "data": {
            "text/plain": [
              "['202-456-1111', '212-897-1964']"
            ]
          },
          "metadata": {},
          "execution_count": 21
        }
      ]
    },
    {
      "cell_type": "markdown",
      "source": [
        "## Regex Split function\n",
        "\n"
      ],
      "metadata": {
        "id": "rwxEQEz8yHdB"
      }
    },
    {
      "cell_type": "code",
      "source": [
        "re.split(regex, x1) #split, remove the match"
      ],
      "metadata": {
        "colab": {
          "base_uri": "https://localhost:8080/"
        },
        "id": "omZUfAyrwV7Z",
        "outputId": "8fe4de96-d9b5-4d8c-e7dc-069a2a9d72ae"
      },
      "execution_count": null,
      "outputs": [
        {
          "output_type": "execute_result",
          "data": {
            "text/plain": [
              "['If you want to call the White house, please use ', '']"
            ]
          },
          "metadata": {},
          "execution_count": 13
        }
      ]
    },
    {
      "cell_type": "code",
      "source": [
        "re.split(regex, x8) #split, remove the match everything else in as a list"
      ],
      "metadata": {
        "colab": {
          "base_uri": "https://localhost:8080/"
        },
        "id": "bs_XBhpSxORe",
        "outputId": "1209586d-3165-40a7-f103-20e12f3db5e0"
      },
      "execution_count": null,
      "outputs": [
        {
          "output_type": "execute_result",
          "data": {
            "text/plain": [
              "[' If you want to call the White house, please use ',\n",
              " '. Dial ',\n",
              " ' to get a very special #Ghostbusters message!']"
            ]
          },
          "metadata": {},
          "execution_count": 22
        }
      ]
    },
    {
      "cell_type": "markdown",
      "source": [
        "## Regex Sub Function"
      ],
      "metadata": {
        "id": "zX7vo6FcyMTg"
      }
    },
    {
      "cell_type": "code",
      "source": [
        "re.sub(regex, \"999-999-9999\", x8) #substitution"
      ],
      "metadata": {
        "colab": {
          "base_uri": "https://localhost:8080/",
          "height": 53
        },
        "id": "d2G2Yps0xZhN",
        "outputId": "5f30f3e0-cd68-4ba3-e49f-f1d4e909ec20"
      },
      "execution_count": null,
      "outputs": [
        {
          "output_type": "execute_result",
          "data": {
            "text/plain": [
              "' If you want to call the White house, please use 999-999-9999. Dial 999-999-9999 to get a very special #Ghostbusters message!'"
            ],
            "application/vnd.google.colaboratory.intrinsic+json": {
              "type": "string"
            }
          },
          "metadata": {},
          "execution_count": 24
        }
      ]
    },
    {
      "cell_type": "code",
      "source": [
        "text1 = re.sub(regex,\"999-999-9999\",x8,count=1) #substitution\n",
        "text1"
      ],
      "metadata": {
        "colab": {
          "base_uri": "https://localhost:8080/",
          "height": 35
        },
        "id": "2K1RHCVelpQa",
        "outputId": "bcd66f04-46b0-48fc-dc83-621903d5ae19"
      },
      "execution_count": null,
      "outputs": [
        {
          "output_type": "execute_result",
          "data": {
            "text/plain": [
              "' If you want to call the White house, please use 999-999-9999. Dial 212-897-1964 to get a very special #Ghostbusters message!'"
            ],
            "application/vnd.google.colaboratory.intrinsic+json": {
              "type": "string"
            }
          },
          "metadata": {},
          "execution_count": 16
        }
      ]
    },
    {
      "cell_type": "code",
      "source": [
        "text2 = re.sub(regex,\"888-888-8888\",text1,flags=0)\n",
        "text2"
      ],
      "metadata": {
        "colab": {
          "base_uri": "https://localhost:8080/",
          "height": 35
        },
        "id": "uHdc0L8lmM77",
        "outputId": "8ef1a765-fc8c-4963-b6d4-1fbf04287d07"
      },
      "execution_count": null,
      "outputs": [
        {
          "output_type": "execute_result",
          "data": {
            "text/plain": [
              "' If you want to call the White house, please use 888-888-8888. Dial 888-888-8888 to get a very special #Ghostbusters message!'"
            ],
            "application/vnd.google.colaboratory.intrinsic+json": {
              "type": "string"
            }
          },
          "metadata": {},
          "execution_count": 20
        }
      ]
    },
    {
      "cell_type": "code",
      "source": [
        "text2"
      ],
      "metadata": {
        "colab": {
          "base_uri": "https://localhost:8080/",
          "height": 35
        },
        "id": "LaxFuxHImV6o",
        "outputId": "ec5b0fd8-411b-4c51-b365-0a946c364152"
      },
      "execution_count": null,
      "outputs": [
        {
          "output_type": "execute_result",
          "data": {
            "text/plain": [
              "' If you want to call the White house, please use 888-888-8888. Dial 888-888-8888 to get a very special #Ghostbusters message!'"
            ],
            "application/vnd.google.colaboratory.intrinsic+json": {
              "type": "string"
            }
          },
          "metadata": {},
          "execution_count": 15
        }
      ]
    },
    {
      "cell_type": "code",
      "source": [
        "re.sub(regex, \"[redacted]\", x8) #substitution as anything you want"
      ],
      "metadata": {
        "colab": {
          "base_uri": "https://localhost:8080/",
          "height": 35
        },
        "id": "39FpINRXxouH",
        "outputId": "2efd044e-f52a-4b1f-be14-8ccd3509ba78"
      },
      "execution_count": null,
      "outputs": [
        {
          "output_type": "execute_result",
          "data": {
            "text/plain": [
              "' If you want to call the White house, please use [redacted]. Dial [redacted] to get a very special #Ghostbusters message!'"
            ],
            "application/vnd.google.colaboratory.intrinsic+json": {
              "type": "string"
            }
          },
          "metadata": {},
          "execution_count": 21
        }
      ]
    },
    {
      "cell_type": "markdown",
      "source": [
        "# Vectorization\n",
        "\n",
        "Bascially turn human-text to machine-readable one, ready for modeling\n",
        "\n",
        "It's called feature engineering for the fancy mind."
      ],
      "metadata": {
        "id": "PkUoatfxB6Lm"
      }
    },
    {
      "cell_type": "markdown",
      "source": [
        "## One-hot Coding\n",
        "\n",
        "vectorize each document based on the words. When the word appears, code it as 1 in the vector"
      ],
      "metadata": {
        "id": "7mG1ca07A29T"
      }
    },
    {
      "cell_type": "markdown",
      "source": [
        "### Using Python\n",
        "Flex your Python muscle"
      ],
      "metadata": {
        "id": "gHudHjiUDdMP"
      }
    },
    {
      "cell_type": "code",
      "execution_count": null,
      "metadata": {
        "colab": {
          "base_uri": "https://localhost:8080/"
        },
        "id": "yI8qsrLtAf3h",
        "outputId": "e59df036-4cbf-4413-a3a9-68148b7832d3"
      },
      "outputs": [
        {
          "output_type": "execute_result",
          "data": {
            "text/plain": [
              "['dog bites man', 'man bites dog', 'dog eats meat', 'man eats food']"
            ]
          },
          "metadata": {},
          "execution_count": 22
        }
      ],
      "source": [
        "#basic cleaning, lower case, then remove period\n",
        "documents = [\"Dog bites man.\", \"Man bites dog.\", \"Dog eats meat.\", \"Man eats food.\"]\n",
        "processed_docs = [doc.lower().replace(\".\",\"\") for doc in documents]\n",
        "processed_docs"
      ]
    },
    {
      "cell_type": "code",
      "source": [
        "#Build the vocabulary through dict, with the number as the position of the word\n",
        "vocab = {}\n",
        "count = 0\n",
        "for doc in processed_docs:\n",
        "    for word in doc.split():\n",
        "        if word not in vocab:\n",
        "            count = count +1\n",
        "            vocab[word] = count\n",
        "\n",
        "print(vocab)"
      ],
      "metadata": {
        "colab": {
          "base_uri": "https://localhost:8080/"
        },
        "id": "qjgXJYOqA8bM",
        "outputId": "d3ccce7a-0bfe-43ec-d83c-dd1860c11d43"
      },
      "execution_count": null,
      "outputs": [
        {
          "output_type": "stream",
          "name": "stdout",
          "text": [
            "{'dog': 1, 'bites': 2, 'man': 3, 'eats': 4, 'meat': 5, 'food': 6}\n"
          ]
        }
      ]
    },
    {
      "cell_type": "code",
      "source": [
        "#Get one hot representation for any string based on this vocabulary.\n",
        "#If the word exists in the vocabulary, its representation is returned.\n",
        "#If not, a list of zeroes is returned for that word.\n",
        "def get_onehot_vector(somestring):\n",
        "    onehot_encoded = []\n",
        "    for word in somestring.split():\n",
        "        temp = [0]*len(vocab)\n",
        "        if word in vocab:\n",
        "            temp[vocab[word]-1] = 1 # -1 is to take care of the fact indexing in array starts from 0 and not 1\n",
        "        onehot_encoded.append(temp)\n",
        "    return onehot_encoded"
      ],
      "metadata": {
        "id": "9M88g86-BHIw"
      },
      "execution_count": null,
      "outputs": []
    },
    {
      "cell_type": "code",
      "source": [
        "print(processed_docs[1])\n",
        "get_onehot_vector(processed_docs[1]) #one hot representation for a text from our corpus."
      ],
      "metadata": {
        "colab": {
          "base_uri": "https://localhost:8080/"
        },
        "id": "pvECldihBQ76",
        "outputId": "4b2d83f1-fca7-4ec6-efd0-72e46211415a"
      },
      "execution_count": null,
      "outputs": [
        {
          "output_type": "stream",
          "name": "stdout",
          "text": [
            "man bites dog\n"
          ]
        },
        {
          "output_type": "execute_result",
          "data": {
            "text/plain": [
              "[[0, 0, 1, 0, 0, 0], [0, 1, 0, 0, 0, 0], [1, 0, 0, 0, 0, 0]]"
            ]
          },
          "metadata": {},
          "execution_count": 27
        }
      ]
    },
    {
      "cell_type": "code",
      "source": [
        "get_onehot_vector(\"man bites dog\")"
      ],
      "metadata": {
        "colab": {
          "base_uri": "https://localhost:8080/"
        },
        "id": "EeIvkbxLBUa-",
        "outputId": "5401acb8-a578-49c2-c8c2-2e72d615a1d9"
      },
      "execution_count": null,
      "outputs": [
        {
          "output_type": "execute_result",
          "data": {
            "text/plain": [
              "[[0, 0, 1, 0, 0, 0], [0, 1, 0, 0, 0, 0], [1, 0, 0, 0, 0, 0]]"
            ]
          },
          "metadata": {},
          "execution_count": 28
        }
      ]
    },
    {
      "cell_type": "code",
      "source": [
        "get_onehot_vector(\"man eats fruits\") #still works (code don't break) , but missing information on fruits"
      ],
      "metadata": {
        "colab": {
          "base_uri": "https://localhost:8080/"
        },
        "id": "sLETWWwpBYFL",
        "outputId": "3336b8c2-6450-4d1b-d7a6-5514f367cbd4"
      },
      "execution_count": null,
      "outputs": [
        {
          "output_type": "execute_result",
          "data": {
            "text/plain": [
              "[[0, 0, 1, 0, 0, 0], [0, 0, 0, 1, 0, 0], [0, 0, 0, 0, 0, 0]]"
            ]
          },
          "metadata": {},
          "execution_count": 29
        }
      ]
    },
    {
      "cell_type": "markdown",
      "source": [
        "### Using scikit-learn\n",
        "\n",
        "Documentation at https://scikit-learn.org/stable/modules/generated/sklearn.preprocessing.OneHotEncoder.html"
      ],
      "metadata": {
        "id": "Dsg8n1e3DbPi"
      }
    },
    {
      "cell_type": "code",
      "source": [
        "S1 = 'dog bites man'\n",
        "S2 = 'man bites dog'\n",
        "S3 = 'dog eats meat'\n",
        "S4 = 'man eats food'"
      ],
      "metadata": {
        "id": "fjhjWT8JDavx"
      },
      "execution_count": null,
      "outputs": []
    },
    {
      "cell_type": "code",
      "source": [
        "#Preprocessing data\n",
        "from sklearn.preprocessing import OneHotEncoder\n",
        "\n",
        "data = [S1.split(), S2.split(), S3.split(), S4.split()]\n",
        "values = data[0]+data[1]+data[2]+data[3]\n",
        "print(\"The data: \",values)\n",
        "\n"
      ],
      "metadata": {
        "colab": {
          "base_uri": "https://localhost:8080/"
        },
        "id": "mmp2SrmSDapO",
        "outputId": "1b1de8b6-bb34-40cc-cede-e5e798d44011"
      },
      "execution_count": null,
      "outputs": [
        {
          "output_type": "stream",
          "name": "stdout",
          "text": [
            "The data:  ['dog', 'bites', 'man', 'man', 'bites', 'dog', 'dog', 'eats', 'meat', 'man', 'eats', 'food']\n"
          ]
        }
      ]
    },
    {
      "cell_type": "code",
      "source": [
        "data"
      ],
      "metadata": {
        "colab": {
          "base_uri": "https://localhost:8080/"
        },
        "id": "RAu3Vproqu47",
        "outputId": "1043b316-af10-4b48-f03d-3053824bf38a"
      },
      "execution_count": null,
      "outputs": [
        {
          "output_type": "execute_result",
          "data": {
            "text/plain": [
              "[['dog', 'bites', 'man'],\n",
              " ['man', 'bites', 'dog'],\n",
              " ['dog', 'eats', 'meat'],\n",
              " ['man', 'eats', 'food']]"
            ]
          },
          "metadata": {},
          "execution_count": 37
        }
      ]
    },
    {
      "cell_type": "code",
      "source": [
        "#One-Hot Encoding\n",
        "onehot_encoder = OneHotEncoder()\n",
        "onehot_encoded = onehot_encoder.fit_transform(data).toarray() #toarray() to get the matrix to the right representation\n",
        "print(onehot_encoder.get_feature_names_out())\n",
        "print(\"Onehot Encoded Matrix:\\n\",onehot_encoded)"
      ],
      "metadata": {
        "colab": {
          "base_uri": "https://localhost:8080/"
        },
        "id": "1tDztFEyELDh",
        "outputId": "ea9f704d-4f82-4bf5-ed32-3609574df3c8"
      },
      "execution_count": null,
      "outputs": [
        {
          "output_type": "stream",
          "name": "stdout",
          "text": [
            "['x0_dog' 'x0_man' 'x1_bites' 'x1_eats' 'x2_dog' 'x2_food' 'x2_man'\n",
            " 'x2_meat']\n",
            "Onehot Encoded Matrix:\n",
            " [[1. 0. 1. 0. 0. 0. 1. 0.]\n",
            " [0. 1. 1. 0. 1. 0. 0. 0.]\n",
            " [1. 0. 0. 1. 0. 0. 0. 1.]\n",
            " [0. 1. 0. 1. 0. 1. 0. 0.]]\n"
          ]
        }
      ]
    },
    {
      "cell_type": "markdown",
      "source": [
        "## Bag of Words\n",
        "\n",
        "We use sklearn CountVectorizer to create the Bag of Words\n",
        "\n",
        "Documentation https://scikit-learn.org/stable/modules/generated/sklearn.feature_extraction.text.CountVectorizer.html\n",
        "\n",
        "We can use binary= True to see if the word appears or not, no need to count"
      ],
      "metadata": {
        "id": "8hbUJXTJBteh"
      }
    },
    {
      "cell_type": "code",
      "source": [
        "from sklearn.feature_extraction.text import CountVectorizer\n",
        "\n",
        "#look at the documents list\n",
        "print(\"Our corpus: \", processed_docs)\n",
        "\n"
      ],
      "metadata": {
        "colab": {
          "base_uri": "https://localhost:8080/"
        },
        "id": "55gHldXmEn0W",
        "outputId": "83846d07-1987-4132-9974-48ee4c519e27"
      },
      "execution_count": null,
      "outputs": [
        {
          "output_type": "stream",
          "name": "stdout",
          "text": [
            "Our corpus:  ['dog bites man', 'man bites dog', 'dog eats meat', 'man eats food']\n"
          ]
        }
      ]
    },
    {
      "cell_type": "code",
      "source": [
        "count_vect1 = CountVectorizer()\n",
        "#Build a BOW representation for the corpus\n",
        "bow_rep1 = count_vect1.fit_transform(processed_docs)\n",
        "\n",
        "#Look at the vocabulary mapping\n",
        "print(\"Our vocabulary: \", count_vect1.vocabulary_)"
      ],
      "metadata": {
        "colab": {
          "base_uri": "https://localhost:8080/"
        },
        "id": "oGJAqB57FZOe",
        "outputId": "0a5909fb-93ab-46a1-dbc4-f77392c64573"
      },
      "execution_count": null,
      "outputs": [
        {
          "output_type": "stream",
          "name": "stdout",
          "text": [
            "Our vocabulary:  {'dog': 1, 'bites': 0, 'man': 4, 'eats': 2, 'meat': 5, 'food': 3}\n"
          ]
        }
      ]
    },
    {
      "cell_type": "code",
      "source": [
        "#see the BOW rep for first 2 documents\n",
        "print(\"BoW representation for\" , processed_docs[0], \": \", bow_rep1[0].toarray())\n",
        "print(\"BoW representation for\" , processed_docs[1], \": \",bow_rep1[1].toarray())\n"
      ],
      "metadata": {
        "colab": {
          "base_uri": "https://localhost:8080/"
        },
        "id": "FxJymo9wFkaB",
        "outputId": "273e214c-b363-49e7-cddc-b5898360c7ee"
      },
      "execution_count": null,
      "outputs": [
        {
          "output_type": "stream",
          "name": "stdout",
          "text": [
            "BoW representation for dog bites man :  [[1 1 0 0 1 0]]\n",
            "BoW representation for man bites dog :  [[1 1 0 0 1 0]]\n"
          ]
        }
      ]
    },
    {
      "cell_type": "code",
      "source": [
        "\n",
        "#Get the representation using this vocabulary, for a new text\n",
        "temp = \"dog and dog are friends\"\n",
        "t_transform = count_vect1.transform([temp])\n",
        "print(\"Bow representation:\",t_transform.toarray() ) #don't forget the [ ] for vectorization"
      ],
      "metadata": {
        "colab": {
          "base_uri": "https://localhost:8080/"
        },
        "id": "_sAd1zj3FtKh",
        "outputId": "d95e96b5-6498-4425-d149-2dac89edf76b"
      },
      "execution_count": null,
      "outputs": [
        {
          "output_type": "stream",
          "name": "stdout",
          "text": [
            "Bow representation: [[0 2 0 0 0 0]]\n"
          ]
        }
      ]
    },
    {
      "cell_type": "code",
      "source": [
        "#let's try one more\n",
        "temp = \"###\" #new text here\n",
        "t_transform = count_vect1.transform([temp])\n",
        "print(\"Bow representation:\",t_transform.toarray() ) #don't forget the [ ] for vectorization"
      ],
      "metadata": {
        "id": "q05hpqcxGMNb",
        "colab": {
          "base_uri": "https://localhost:8080/"
        },
        "outputId": "c08f7e72-c786-48bd-c200-a009c26d3f2c"
      },
      "execution_count": null,
      "outputs": [
        {
          "output_type": "stream",
          "name": "stdout",
          "text": [
            "Bow representation: [[0 0 0 0 0 0]]\n"
          ]
        }
      ]
    },
    {
      "cell_type": "code",
      "source": [
        "#BoW with binary vectors , whether the word appear or not\n",
        "count_vect2 = CountVectorizer(binary=True)\n",
        "count_vect2.fit(processed_docs)\n",
        "temp = count_vect2.transform([\"dog and dog are friends\"])\n",
        "print(\"Bow representation for 'dog and dog are friends':\", temp.toarray())"
      ],
      "metadata": {
        "colab": {
          "base_uri": "https://localhost:8080/"
        },
        "id": "Vk-FFwV0HqSh",
        "outputId": "e2284044-2f07-4e29-e4b7-efafa0b86b3a"
      },
      "execution_count": null,
      "outputs": [
        {
          "output_type": "stream",
          "name": "stdout",
          "text": [
            "Bow representation for 'dog and dog are friends': [[0 1 0 0 0 0]]\n"
          ]
        }
      ]
    },
    {
      "cell_type": "markdown",
      "source": [
        "## Bag of N-grams\n"
      ],
      "metadata": {
        "id": "K8PMWb3dxQH1"
      }
    },
    {
      "cell_type": "code",
      "source": [
        "### Let"
      ],
      "metadata": {
        "id": "OWOG3Hz7x8jh"
      },
      "execution_count": null,
      "outputs": []
    },
    {
      "cell_type": "markdown",
      "source": [
        "### Uni-gram ==one word"
      ],
      "metadata": {
        "id": "s59Q3Tuax-Gr"
      }
    },
    {
      "cell_type": "code",
      "source": [
        "#Ngram vectorization example with count vectorizer and uni-gram first\n",
        "count_vect3 = CountVectorizer(ngram_range=(1,1)) #set a range\n",
        "# Build a BOW representation for the corpus\n",
        "bow_rep3 = count_vect3.fit_transform(processed_docs)\n",
        "\n",
        "#Look at the vocabulary mapping\n",
        "print(\"Our vocabulary: \", count_vect3.vocabulary_)\n",
        "\n",
        "#see the BOW rep for first 2 documents\n",
        "print(\"BoW representation for\" , processed_docs[0], \": \", bow_rep3[0].toarray())\n",
        "print(\"BoW representation for\" , processed_docs[1], \": \",bow_rep3[1].toarray())\n",
        "\n",
        "#Get the representation using this vocabulary, for a new text\n",
        "temp = count_vect3.transform([\"dog and dog are friends\"])\n",
        "\n",
        "print(\"Bow representation for 'dog and dog are friends':\", temp.toarray())"
      ],
      "metadata": {
        "colab": {
          "base_uri": "https://localhost:8080/"
        },
        "id": "F9iSlty8x0Gc",
        "outputId": "cecb1a16-2663-49c5-ad37-f7268836b108"
      },
      "execution_count": null,
      "outputs": [
        {
          "output_type": "stream",
          "name": "stdout",
          "text": [
            "Our vocabulary:  {'dog': 1, 'bites': 0, 'man': 4, 'eats': 2, 'meat': 5, 'food': 3}\n",
            "BoW representation for dog bites man :  [[1 1 0 0 1 0]]\n",
            "BoW representation for man bites dog :  [[1 1 0 0 1 0]]\n",
            "Bow representation for 'dog and dog are friends': [[0 2 0 0 0 0]]\n"
          ]
        }
      ]
    },
    {
      "cell_type": "markdown",
      "source": [
        "### Bi-gram == two words"
      ],
      "metadata": {
        "id": "JFcThmPVyJsV"
      }
    },
    {
      "cell_type": "code",
      "source": [
        "#Ngram vectorization example with count vectorizer and uni-gram first\n",
        "count_vect4 = CountVectorizer(ngram_range=(2,2)) #set a range\n",
        "#Build a BOW representation for the corpus\n",
        "bow_rep4 = count_vect4.fit_transform(processed_docs)\n",
        "\n",
        "#Look at the vocabulary mapping\n",
        "print(\"Our vocabulary: \", count_vect4.vocabulary_)\n",
        "\n",
        "#see the BOW rep for first 2 documents\n",
        "print(\"BoW representation for\" , processed_docs[0], \": \", bow_rep4[0].toarray())\n",
        "print(\"BoW representation for\" , processed_docs[1], \": \",bow_rep4[1].toarray())\n",
        "\n",
        "#Get the representation using this vocabulary, for a new text\n",
        "temp = count_vect4.transform([\"dog and dog are friends\"])\n",
        "\n",
        "print(\"Bow representation for 'dog and dog are friends':\", temp.toarray())"
      ],
      "metadata": {
        "colab": {
          "base_uri": "https://localhost:8080/"
        },
        "id": "WtGSqdkdyHA_",
        "outputId": "dc233e8a-4967-4bff-8f1e-bf855b5c7f84"
      },
      "execution_count": null,
      "outputs": [
        {
          "output_type": "stream",
          "name": "stdout",
          "text": [
            "Our vocabulary:  {'dog bites': 2, 'bites man': 1, 'man bites': 6, 'bites dog': 0, 'dog eats': 3, 'eats meat': 5, 'man eats': 7, 'eats food': 4}\n",
            "BoW representation for dog bites man :  [[0 1 1 0 0 0 0 0]]\n",
            "BoW representation for man bites dog :  [[1 0 0 0 0 0 1 0]]\n",
            "Bow representation for 'dog and dog are friends': [[0 0 0 0 0 0 0 0]]\n"
          ]
        }
      ]
    },
    {
      "cell_type": "markdown",
      "source": [
        "### tri-gram == three words"
      ],
      "metadata": {
        "id": "YhxxtNvvzKYs"
      }
    },
    {
      "cell_type": "code",
      "source": [
        "#Ngram vectorization example with count vectorizer and uni-gram first\n",
        "count_vect5 = CountVectorizer(ngram_range=(3,3)) #set a range\n",
        "#Build a BOW representation for the corpus\n",
        "bow_rep5 = count_vect5.fit_transform(processed_docs)\n",
        "\n",
        "#Look at the vocabulary mapping\n",
        "print(\"Our vocabulary: \", count_vect5.vocabulary_)\n",
        "#see the BOW rep for first 2 documents\n",
        "print(\"BoW representation for\" , processed_docs[0], \": \", bow_rep5[0].toarray())\n",
        "print(\"BoW representation for\" , processed_docs[1], \": \",bow_rep5[1].toarray())\n",
        "\n",
        "#Get the representation using this vocabulary, for a new text\n",
        "temp = count_vect5.transform([\"dog and dog are friends\"])\n",
        "\n",
        "print(\"Bow representation for 'dog and dog are friends':\", temp.toarray())"
      ],
      "metadata": {
        "colab": {
          "base_uri": "https://localhost:8080/"
        },
        "id": "KTjOykYnyGV3",
        "outputId": "526cca61-debb-48b6-f2cc-5052d4831076"
      },
      "execution_count": null,
      "outputs": [
        {
          "output_type": "stream",
          "name": "stdout",
          "text": [
            "Our vocabulary:  {'dog bites man': 0, 'man bites dog': 2, 'dog eats meat': 1, 'man eats food': 3}\n",
            "BoW representation for dog bites man :  [[1 0 0 0]]\n",
            "BoW representation for man bites dog :  [[0 0 1 0]]\n",
            "Bow representation for 'dog and dog are friends': [[0 0 0 0]]\n"
          ]
        }
      ]
    },
    {
      "cell_type": "markdown",
      "source": [
        "### Bag of N-grams\n",
        "Let's have uni-gram. bi-gram, and tri-gram all together"
      ],
      "metadata": {
        "id": "Sg0HpVgWFkQG"
      }
    },
    {
      "cell_type": "code",
      "source": [
        "#Ngram vectorization example with count vectorizer and uni-gram first\n",
        "count_vect5 = CountVectorizer(ngram_range=(1,3)) #set a range from 1 to 3 gram\n",
        "#Build a BOW representation for the corpus\n",
        "bow_rep5 = count_vect5.fit_transform(processed_docs)\n",
        "\n",
        "#Look at the vocabulary mapping\n",
        "\n",
        "\n",
        "print(\"Our vocabulary: \", {k: v for k, v in sorted(count_vect5.vocabulary_.items(), key=lambda item: item[1])})  #count_vect5.vocabulary_ is the dict, let's sort it\n",
        "\n",
        "#see the BOW rep for first 2 documents\n",
        "print(\"BoW representation for\" , processed_docs[0], \": \", bow_rep5[0].toarray())\n",
        "print(\"BoW representation for\" , processed_docs[1], \": \",bow_rep5[1].toarray())\n",
        "\n",
        "#Get the representation using this vocabulary, for a new text\n",
        "temp = count_vect5.transform([\"dog and dog are friends\"])\n",
        "\n",
        "print(\"Bow representation for 'dog and dog are friends':\", temp.toarray())"
      ],
      "metadata": {
        "colab": {
          "base_uri": "https://localhost:8080/"
        },
        "id": "bk5RMv110KwQ",
        "outputId": "eaed9c7b-fdcc-448e-be8b-9e65b9a421ab"
      },
      "execution_count": null,
      "outputs": [
        {
          "output_type": "stream",
          "name": "stdout",
          "text": [
            "Our vocabulary:  {'bites': 0, 'bites dog': 1, 'bites man': 2, 'dog': 3, 'dog bites': 4, 'dog bites man': 5, 'dog eats': 6, 'dog eats meat': 7, 'eats': 8, 'eats food': 9, 'eats meat': 10, 'food': 11, 'man': 12, 'man bites': 13, 'man bites dog': 14, 'man eats': 15, 'man eats food': 16, 'meat': 17}\n",
            "BoW representation for dog bites man :  [[1 0 1 1 1 1 0 0 0 0 0 0 1 0 0 0 0 0]]\n",
            "BoW representation for man bites dog :  [[1 1 0 1 0 0 0 0 0 0 0 0 1 1 1 0 0 0]]\n",
            "Bow representation for 'dog and dog are friends': [[0 0 0 2 0 0 0 0 0 0 0 0 0 0 0 0 0 0]]\n"
          ]
        }
      ]
    },
    {
      "cell_type": "markdown",
      "source": [
        "## TF-IDF\n",
        "\n",
        "YOu can flex your Python to calculate TF, IDF, then TF-IDF, but you don't have to. Sklearn have it covered\n",
        "\n",
        "Documentation\n",
        "https://scikit-learn.org/stable/modules/generated/sklearn.feature_extraction.text.TfidfVectorizer.html\n",
        "\n",
        "L2 normalization is a way to make the vector smaller to save computing power but still retain enough information"
      ],
      "metadata": {
        "id": "MkoRvDVy3xDh"
      }
    },
    {
      "cell_type": "code",
      "source": [
        "from sklearn.feature_extraction.text import TfidfVectorizer\n",
        "\n",
        "tfidf = TfidfVectorizer() #norm =l2\n",
        "bow_rep_tfidf = tfidf.fit_transform(processed_docs)\n"
      ],
      "metadata": {
        "id": "XgPAMHQT3wvf"
      },
      "execution_count": null,
      "outputs": []
    },
    {
      "cell_type": "code",
      "source": [
        "processed_docs"
      ],
      "metadata": {
        "colab": {
          "base_uri": "https://localhost:8080/"
        },
        "id": "fnZRl-TF418o",
        "outputId": "ba3ef875-02b7-42d1-e022-a825ee39e64f"
      },
      "execution_count": null,
      "outputs": [
        {
          "output_type": "execute_result",
          "data": {
            "text/plain": [
              "['dog bites man', 'man bites dog', 'dog eats meat', 'man eats food']"
            ]
          },
          "metadata": {},
          "execution_count": 50
        }
      ]
    },
    {
      "cell_type": "code",
      "source": [
        "#IDF for all words in the vocabulary\n",
        "print(\"IDF for all words in the vocabulary\",tfidf.idf_)\n"
      ],
      "metadata": {
        "colab": {
          "base_uri": "https://localhost:8080/"
        },
        "id": "AoXAfrUe4QiH",
        "outputId": "6bffe328-19de-4ef9-dd72-e6f2d5861655"
      },
      "execution_count": null,
      "outputs": [
        {
          "output_type": "stream",
          "name": "stdout",
          "text": [
            "IDF for all words in the vocabulary [1.51082562 1.22314355 1.51082562 1.91629073 1.22314355 1.91629073]\n"
          ]
        }
      ]
    },
    {
      "cell_type": "code",
      "source": [
        "#All words in the vocabulary.\n",
        "print(\"All words in the vocabulary\",tfidf.get_feature_names())\n"
      ],
      "metadata": {
        "colab": {
          "base_uri": "https://localhost:8080/"
        },
        "id": "m45_0u_e4c0r",
        "outputId": "e33092c3-9a1a-4026-b7b9-88c00343760c"
      },
      "execution_count": null,
      "outputs": [
        {
          "output_type": "stream",
          "name": "stdout",
          "text": [
            "All words in the vocabulary ['bites', 'dog', 'eats', 'food', 'man', 'meat']\n"
          ]
        },
        {
          "output_type": "stream",
          "name": "stderr",
          "text": [
            "/usr/local/lib/python3.7/dist-packages/sklearn/utils/deprecation.py:87: FutureWarning: Function get_feature_names is deprecated; get_feature_names is deprecated in 1.0 and will be removed in 1.2. Please use get_feature_names_out instead.\n",
            "  warnings.warn(msg, category=FutureWarning)\n"
          ]
        }
      ]
    },
    {
      "cell_type": "code",
      "source": [
        "#TFIDF representation for all documents in our corpus\n",
        "print(\"TFIDF representation for all documents in our corpus\\n\",bow_rep_tfidf.toarray())\n",
        "\n",
        "#order is based on the get_feature names\n"
      ],
      "metadata": {
        "colab": {
          "base_uri": "https://localhost:8080/"
        },
        "id": "GTVluOSj4KsM",
        "outputId": "e4379459-bdc8-468c-cf3a-6ff5bbfa9714"
      },
      "execution_count": null,
      "outputs": [
        {
          "output_type": "stream",
          "name": "stdout",
          "text": [
            "TFIDF representation for all documents in our corpus\n",
            " [[0.65782931 0.53256952 0.         0.         0.53256952 0.        ]\n",
            " [0.65782931 0.53256952 0.         0.         0.53256952 0.        ]\n",
            " [0.         0.44809973 0.55349232 0.         0.         0.70203482]\n",
            " [0.         0.         0.55349232 0.70203482 0.44809973 0.        ]]\n"
          ]
        }
      ]
    },
    {
      "cell_type": "code",
      "source": [
        "temp = tfidf.transform([\"dog and man are friends.\"])\n",
        "print(\"Tfidf representation for 'dog and man are friends':\\n\", temp.toarray())"
      ],
      "metadata": {
        "colab": {
          "base_uri": "https://localhost:8080/"
        },
        "id": "FsHTGn074iRj",
        "outputId": "072dba54-d152-4817-e45c-1da6689ba91a"
      },
      "execution_count": null,
      "outputs": [
        {
          "output_type": "stream",
          "name": "stdout",
          "text": [
            "Tfidf representation for 'dog and man are friends':\n",
            " [[0.         0.70710678 0.         0.         0.70710678 0.        ]]\n"
          ]
        }
      ]
    }
  ]
}