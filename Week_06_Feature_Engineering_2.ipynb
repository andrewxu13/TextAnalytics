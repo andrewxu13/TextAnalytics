{
  "nbformat": 4,
  "nbformat_minor": 0,
  "metadata": {
    "colab": {
      "provenance": [],
      "include_colab_link": true
    },
    "kernelspec": {
      "name": "python3",
      "display_name": "Python 3"
    },
    "language_info": {
      "name": "python"
    }
  },
  "cells": [
    {
      "cell_type": "markdown",
      "metadata": {
        "id": "view-in-github",
        "colab_type": "text"
      },
      "source": [
        "<a href=\"https://colab.research.google.com/github/andrewxu13/TextAnalytics/blob/main/Week_06_Feature_Engineering_2.ipynb\" target=\"_parent\"><img src=\"https://colab.research.google.com/assets/colab-badge.svg\" alt=\"Open In Colab\"/></a>"
      ]
    },
    {
      "cell_type": "markdown",
      "source": [
        "## Bag of N-grams\n"
      ],
      "metadata": {
        "id": "K8PMWb3dxQH1"
      }
    },
    {
      "cell_type": "markdown",
      "source": [
        "We use sklearn CountVectorizer to create the Bag of Words\n",
        "\n",
        "Documentation https://scikit-learn.org/stable/modules/generated/sklearn.feature_extraction.text.CountVectorizer.html\n",
        "\n",
        "We can use binary= True to see if the word appears or not, no need to count"
      ],
      "metadata": {
        "id": "O4GxwoUAurEe"
      }
    },
    {
      "cell_type": "markdown",
      "source": [
        "### Uni-gram ==one word"
      ],
      "metadata": {
        "id": "s59Q3Tuax-Gr"
      }
    },
    {
      "cell_type": "code",
      "source": [
        "import pandas as pd\n",
        "import numpy as np"
      ],
      "metadata": {
        "id": "nWubLLUW0QaY"
      },
      "execution_count": null,
      "outputs": []
    },
    {
      "cell_type": "code",
      "source": [
        "from sklearn.feature_extraction.text import CountVectorizer"
      ],
      "metadata": {
        "id": "j1Jm8drHuSiv"
      },
      "execution_count": null,
      "outputs": []
    },
    {
      "cell_type": "code",
      "source": [
        "documents = [\"Dog bites man.\", \"Man bites dog.\", \"Dog eats meat.\", \"Man eats food.\"]\n",
        "processed_docs = [doc.lower().replace(\".\",\"\") for doc in documents]"
      ],
      "metadata": {
        "id": "oS-MeNijuYSe"
      },
      "execution_count": null,
      "outputs": []
    },
    {
      "cell_type": "code",
      "source": [
        "#Ngram vectorization example with count vectorizer and uni-gram first\n",
        "count_vect3 = CountVectorizer(ngram_range=(1,1)) #set a range\n",
        "# Build a BOW representation for the corpus\n",
        "bow_rep3 = count_vect3.fit_transform(processed_docs)\n",
        "\n",
        "#Look at the vocabulary mapping\n",
        "print(\"Our vocabulary: \", count_vect3.vocabulary_)\n",
        "\n",
        "#see the BOW rep for first 2 documents\n",
        "print(\"BoW representation for\" , processed_docs[0], \": \", bow_rep3[0].toarray())\n",
        "print(\"BoW representation for\" , processed_docs[1], \": \",bow_rep3[1].toarray())\n",
        "\n",
        "#Get the representation using this vocabulary, for a new text\n",
        "temp = count_vect3.transform([\"dog and dog are friends\"])\n",
        "\n",
        "print(\"Bow representation for 'dog and dog are friends':\", temp.toarray())"
      ],
      "metadata": {
        "colab": {
          "base_uri": "https://localhost:8080/"
        },
        "id": "F9iSlty8x0Gc",
        "outputId": "19b9b2f7-f855-4c58-f241-cc2a6e542a2a"
      },
      "execution_count": null,
      "outputs": [
        {
          "output_type": "stream",
          "name": "stdout",
          "text": [
            "Our vocabulary:  {'dog': 1, 'bites': 0, 'man': 4, 'eats': 2, 'meat': 5, 'food': 3}\n",
            "BoW representation for dog bites man :  [[1 1 0 0 1 0]]\n",
            "BoW representation for man bites dog :  [[1 1 0 0 1 0]]\n",
            "Bow representation for 'dog and dog are friends': [[0 2 0 0 0 0]]\n"
          ]
        }
      ]
    },
    {
      "cell_type": "markdown",
      "source": [
        "### Bi-gram == two words"
      ],
      "metadata": {
        "id": "JFcThmPVyJsV"
      }
    },
    {
      "cell_type": "code",
      "source": [
        "#Ngram vectorization example with count vectorizer and uni-gram first\n",
        "count_vect4 = CountVectorizer(ngram_range=(2,2)) #set a range\n",
        "#Build a BOW representation for the corpus\n",
        "bow_rep4 = count_vect4.fit_transform(processed_docs)\n",
        "\n",
        "#Look at the vocabulary mapping\n",
        "print(\"Our vocabulary: \", count_vect4.vocabulary_)\n",
        "\n",
        "#see the BOW rep for first 2 documents\n",
        "print(\"BoW representation for\" , processed_docs[0], \": \", bow_rep4[0].toarray())\n",
        "print(\"BoW representation for\" , processed_docs[1], \": \",bow_rep4[1].toarray())\n",
        "\n",
        "#Get the representation using this vocabulary, for a new text\n",
        "temp = count_vect4.transform([\"dog and dog are friends\"])\n",
        "\n",
        "print(\"Bow representation for 'dog and dog are friends':\", temp.toarray())"
      ],
      "metadata": {
        "colab": {
          "base_uri": "https://localhost:8080/"
        },
        "id": "WtGSqdkdyHA_",
        "outputId": "076840bb-a225-4dba-fa2c-261bbe29eb9f"
      },
      "execution_count": null,
      "outputs": [
        {
          "output_type": "stream",
          "name": "stdout",
          "text": [
            "Our vocabulary:  {'dog bites': 2, 'bites man': 1, 'man bites': 6, 'bites dog': 0, 'dog eats': 3, 'eats meat': 5, 'man eats': 7, 'eats food': 4}\n",
            "BoW representation for dog bites man :  [[0 1 1 0 0 0 0 0]]\n",
            "BoW representation for man bites dog :  [[1 0 0 0 0 0 1 0]]\n",
            "Bow representation for 'dog and dog are friends': [[0 0 0 0 0 0 0 0]]\n"
          ]
        }
      ]
    },
    {
      "cell_type": "markdown",
      "source": [
        "### tri-gram == three words"
      ],
      "metadata": {
        "id": "YhxxtNvvzKYs"
      }
    },
    {
      "cell_type": "code",
      "source": [
        "#Ngram vectorization example with count vectorizer and uni-gram first\n",
        "count_vect5 = CountVectorizer(ngram_range=(3,3)) #set a range\n",
        "#Build a BOW representation for the corpus\n",
        "bow_rep5 = count_vect5.fit_transform(processed_docs)\n",
        "\n",
        "#Look at the vocabulary mapping\n",
        "print(\"Our vocabulary: \", count_vect5.vocabulary_)\n",
        "#see the BOW rep for first 2 documents\n",
        "print(\"BoW representation for\" , processed_docs[0], \": \", bow_rep5[0].toarray())\n",
        "print(\"BoW representation for\" , processed_docs[1], \": \",bow_rep5[1].toarray())\n",
        "\n",
        "#Get the representation using this vocabulary, for a new text\n",
        "temp = count_vect5.transform([\"dog and dog are friends\"])\n",
        "\n",
        "print(\"Bow representation for 'dog and dog are friends':\", temp.toarray())"
      ],
      "metadata": {
        "colab": {
          "base_uri": "https://localhost:8080/"
        },
        "id": "KTjOykYnyGV3",
        "outputId": "fb7c1412-d2b1-4c73-b3c3-cb05f11e72a2"
      },
      "execution_count": null,
      "outputs": [
        {
          "output_type": "stream",
          "name": "stdout",
          "text": [
            "Our vocabulary:  {'dog bites man': 0, 'man bites dog': 2, 'dog eats meat': 1, 'man eats food': 3}\n",
            "BoW representation for dog bites man :  [[1 0 0 0]]\n",
            "BoW representation for man bites dog :  [[0 0 1 0]]\n",
            "Bow representation for 'dog and dog are friends': [[0 0 0 0]]\n"
          ]
        }
      ]
    },
    {
      "cell_type": "markdown",
      "source": [
        "### Bag of N-grams\n",
        "Let's have uni-gram. bi-gram, and tri-gram all together"
      ],
      "metadata": {
        "id": "Sg0HpVgWFkQG"
      }
    },
    {
      "cell_type": "code",
      "source": [
        "#Ngram vectorization example with count vectorizer and uni-gram first\n",
        "count_vect5 = CountVectorizer(ngram_range=(1,3)) #set a range from 1 to 3 gram\n",
        "#Build a BOW representation for the corpus\n",
        "bow_rep5 = count_vect5.fit_transform(processed_docs)\n",
        "\n",
        "#Look at the vocabulary mapping\n",
        "\n",
        "\n",
        "print(\"Our vocabulary: \", {k: v for k, v in sorted(count_vect5.vocabulary_.items(), key=lambda item: item[1])})  #count_vect5.vocabulary_ is the dict, let's sort it\n",
        "\n",
        "#see the BOW rep for first 2 documents\n",
        "print(\"BoW representation for\" , processed_docs[0], \": \", bow_rep5[0].toarray())\n",
        "print(\"BoW representation for\" , processed_docs[1], \": \",bow_rep5[1].toarray())\n",
        "\n",
        "#Get the representation using this vocabulary, for a new text\n",
        "temp = count_vect5.transform([\"dog and dog are friends\"])\n",
        "\n",
        "print(\"Bow representation for 'dog and dog are friends':\", temp.toarray())"
      ],
      "metadata": {
        "colab": {
          "base_uri": "https://localhost:8080/"
        },
        "id": "bk5RMv110KwQ",
        "outputId": "659465e0-d093-43a9-c6c7-8aa38b1d9ec5"
      },
      "execution_count": null,
      "outputs": [
        {
          "output_type": "stream",
          "name": "stdout",
          "text": [
            "Our vocabulary:  {'bites': 0, 'bites dog': 1, 'bites man': 2, 'dog': 3, 'dog bites': 4, 'dog bites man': 5, 'dog eats': 6, 'dog eats meat': 7, 'eats': 8, 'eats food': 9, 'eats meat': 10, 'food': 11, 'man': 12, 'man bites': 13, 'man bites dog': 14, 'man eats': 15, 'man eats food': 16, 'meat': 17}\n",
            "BoW representation for dog bites man :  [[1 0 1 1 1 1 0 0 0 0 0 0 1 0 0 0 0 0]]\n",
            "BoW representation for man bites dog :  [[1 1 0 1 0 0 0 0 0 0 0 0 1 1 1 0 0 0]]\n",
            "Bow representation for 'dog and dog are friends': [[0 0 0 2 0 0 0 0 0 0 0 0 0 0 0 0 0 0]]\n"
          ]
        }
      ]
    },
    {
      "cell_type": "markdown",
      "source": [
        "## TF-IDF\n",
        "\n",
        "YOu can flex your Python to calculate TF, IDF, then TF-IDF, but you don't have to. Sklearn have it covered\n",
        "\n",
        "Documentation\n",
        "https://scikit-learn.org/stable/modules/generated/sklearn.feature_extraction.text.TfidfVectorizer.html\n",
        "\n",
        "L2 normalization is a way to make the vector smaller to save computing power but still retain enough information"
      ],
      "metadata": {
        "id": "MkoRvDVy3xDh"
      }
    },
    {
      "cell_type": "code",
      "source": [
        "from sklearn.feature_extraction.text import TfidfVectorizer\n",
        "#Tfidf vectorizer create transform the data into vector, and then create tf-idf for each document\n",
        "\n",
        "tfidf = TfidfVectorizer() #norm =l2\n",
        "bow_rep_tfidf = tfidf.fit_transform(processed_docs)\n"
      ],
      "metadata": {
        "id": "XgPAMHQT3wvf"
      },
      "execution_count": null,
      "outputs": []
    },
    {
      "cell_type": "code",
      "source": [
        "bow_rep_tfidf.todense()"
      ],
      "metadata": {
        "colab": {
          "base_uri": "https://localhost:8080/"
        },
        "id": "_AncnZN9z0rS",
        "outputId": "201dba37-54cc-4407-9251-74bee4368ac0"
      },
      "execution_count": null,
      "outputs": [
        {
          "output_type": "execute_result",
          "data": {
            "text/plain": [
              "matrix([[0.65782931, 0.53256952, 0.        , 0.        , 0.53256952,\n",
              "         0.        ],\n",
              "        [0.65782931, 0.53256952, 0.        , 0.        , 0.53256952,\n",
              "         0.        ],\n",
              "        [0.        , 0.44809973, 0.55349232, 0.        , 0.        ,\n",
              "         0.70203482],\n",
              "        [0.        , 0.        , 0.55349232, 0.70203482, 0.44809973,\n",
              "         0.        ]])"
            ]
          },
          "metadata": {},
          "execution_count": 9
        }
      ]
    },
    {
      "cell_type": "code",
      "source": [
        "processed_docs"
      ],
      "metadata": {
        "colab": {
          "base_uri": "https://localhost:8080/"
        },
        "id": "fnZRl-TF418o",
        "outputId": "4dc8e351-690f-4225-d14a-7f506f554ec0"
      },
      "execution_count": null,
      "outputs": [
        {
          "output_type": "execute_result",
          "data": {
            "text/plain": [
              "['dog bites man', 'man bites dog', 'dog eats meat', 'man eats food']"
            ]
          },
          "metadata": {},
          "execution_count": 10
        }
      ]
    },
    {
      "cell_type": "code",
      "source": [
        "#get term frequency via Document Term Matrix. Row = Document. Column = Term. Matrix = Table\n",
        "tf_dtm = tfidf.fit_transform(processed_docs).todense() #toarray returns an ndarray; todense returns a matrix.\n",
        "tokens = tfidf.get_feature_names_out()\n",
        "term_frequency = pd.DataFrame(data=tf_dtm,\n",
        "                              columns=tokens)\n",
        "print(term_frequency)"
      ],
      "metadata": {
        "colab": {
          "base_uri": "https://localhost:8080/"
        },
        "id": "tYPoWdVezi1F",
        "outputId": "8d954a4c-2686-457a-ccfb-32f5208a46e7"
      },
      "execution_count": null,
      "outputs": [
        {
          "output_type": "stream",
          "name": "stdout",
          "text": [
            "      bites      dog      eats      food      man      meat\n",
            "0  0.657829  0.53257  0.000000  0.000000  0.53257  0.000000\n",
            "1  0.657829  0.53257  0.000000  0.000000  0.53257  0.000000\n",
            "2  0.000000  0.44810  0.553492  0.000000  0.00000  0.702035\n",
            "3  0.000000  0.00000  0.553492  0.702035  0.44810  0.000000\n"
          ]
        }
      ]
    },
    {
      "cell_type": "code",
      "source": [
        "#IDF for all words in the vocabulary\n",
        "print(\"IDF for all words in the vocabulary\",tfidf.idf_)\n"
      ],
      "metadata": {
        "colab": {
          "base_uri": "https://localhost:8080/"
        },
        "id": "AoXAfrUe4QiH",
        "outputId": "8bad07d0-ccce-40f4-889e-16fe9bcee900"
      },
      "execution_count": null,
      "outputs": [
        {
          "output_type": "stream",
          "name": "stdout",
          "text": [
            "IDF for all words in the vocabulary [1.51082562 1.22314355 1.51082562 1.91629073 1.22314355 1.91629073]\n"
          ]
        }
      ]
    },
    {
      "cell_type": "code",
      "source": [
        "tfidf.vocabulary_ #All words in the vocabulary."
      ],
      "metadata": {
        "colab": {
          "base_uri": "https://localhost:8080/"
        },
        "id": "B6y3RlRDwHhg",
        "outputId": "5d156cb0-d2e7-464c-d00a-cf51925169e7"
      },
      "execution_count": null,
      "outputs": [
        {
          "output_type": "execute_result",
          "data": {
            "text/plain": [
              "{'dog': 1, 'bites': 0, 'man': 4, 'eats': 2, 'meat': 5, 'food': 3}"
            ]
          },
          "metadata": {},
          "execution_count": 13
        }
      ]
    },
    {
      "cell_type": "code",
      "source": [
        "#TFIDF representation for all documents in our corpus\n",
        "for i in range(len(processed_docs)):\n",
        " print(\"document: \",processed_docs[i])\n",
        " print(\"has a TFIDF vector representation:\",bow_rep_tfidf.toarray()[i])\n",
        "\n",
        "#order is based on the get_feature names\n"
      ],
      "metadata": {
        "colab": {
          "base_uri": "https://localhost:8080/"
        },
        "id": "GTVluOSj4KsM",
        "outputId": "c327e9ce-b109-492a-e73e-9585d1b50724"
      },
      "execution_count": null,
      "outputs": [
        {
          "output_type": "stream",
          "name": "stdout",
          "text": [
            "document:  dog bites man\n",
            "has a TFIDF vector representation: [0.65782931 0.53256952 0.         0.         0.53256952 0.        ]\n",
            "document:  man bites dog\n",
            "has a TFIDF vector representation: [0.65782931 0.53256952 0.         0.         0.53256952 0.        ]\n",
            "document:  dog eats meat\n",
            "has a TFIDF vector representation: [0.         0.44809973 0.55349232 0.         0.         0.70203482]\n",
            "document:  man eats food\n",
            "has a TFIDF vector representation: [0.         0.         0.55349232 0.70203482 0.44809973 0.        ]\n"
          ]
        }
      ]
    },
    {
      "cell_type": "code",
      "source": [
        "temp = tfidf.transform([\"dog and man are friends.\"])\n",
        "print(\"Tfidf representation for 'dog and man are friends':\\n\", temp.toarray())"
      ],
      "metadata": {
        "colab": {
          "base_uri": "https://localhost:8080/"
        },
        "id": "FsHTGn074iRj",
        "outputId": "ad8e2f5c-34f1-488a-9710-287dd2eb061d"
      },
      "execution_count": null,
      "outputs": [
        {
          "output_type": "stream",
          "name": "stdout",
          "text": [
            "Tfidf representation for 'dog and man are friends':\n",
            " [[0.         0.70710678 0.         0.         0.70710678 0.        ]]\n"
          ]
        }
      ]
    },
    {
      "cell_type": "markdown",
      "source": [
        "## Cosine Similarity"
      ],
      "metadata": {
        "id": "wHVHfjDUI7hx"
      }
    },
    {
      "cell_type": "code",
      "source": [
        "from sklearn.metrics.pairwise import cosine_similarity"
      ],
      "metadata": {
        "id": "v-QVsCnOI5gq"
      },
      "execution_count": null,
      "outputs": []
    },
    {
      "cell_type": "code",
      "source": [
        "corpus = ['The sun is the largest celestial body in the solar system',\n",
        "          'The solar system consists of the sun and eight revolving planets',\n",
        "          'Ra was the Egyptian Sun God',\n",
        "          'The Pyramids were the pinnacle of Egyptian architecture',\n",
        "          'The quick brown fox jumps over the lazy dog']"
      ],
      "metadata": {
        "id": "Hq0ffa8KJy7y"
      },
      "execution_count": null,
      "outputs": []
    },
    {
      "cell_type": "code",
      "source": [
        "tfidf2 = TfidfVectorizer()\n",
        "tfidf2matrix = tfidf2.fit_transform(corpus)\n",
        "\n",
        "# compute and print the cosine similarity matrix\n",
        "cosine_sim = cosine_similarity(tfidf2matrix, tfidf2matrix) #compare each doc with the entire corpus.\n",
        "print(cosine_sim)"
      ],
      "metadata": {
        "colab": {
          "base_uri": "https://localhost:8080/"
        },
        "id": "H2yXJznuJZlt",
        "outputId": "e8602344-f489-43eb-a759-9b94ea377f3e"
      },
      "execution_count": null,
      "outputs": [
        {
          "output_type": "stream",
          "name": "stdout",
          "text": [
            "[[1.         0.36413198 0.18314713 0.18435251 0.16336438]\n",
            " [0.36413198 1.         0.15054075 0.21704584 0.11203887]\n",
            " [0.18314713 0.15054075 1.         0.21318602 0.07763512]\n",
            " [0.18435251 0.21704584 0.21318602 1.         0.12960089]\n",
            " [0.16336438 0.11203887 0.07763512 0.12960089 1.        ]]\n"
          ]
        }
      ]
    },
    {
      "cell_type": "code",
      "source": [
        "cosine_sim[0] #first doc"
      ],
      "metadata": {
        "colab": {
          "base_uri": "https://localhost:8080/"
        },
        "id": "nouxaTXvKum4",
        "outputId": "3d6db6be-50a3-4ce0-ebcf-a7ac026c4ea1"
      },
      "execution_count": null,
      "outputs": [
        {
          "output_type": "execute_result",
          "data": {
            "text/plain": [
              "array([1.        , 0.36413198, 0.18314713, 0.18435251, 0.16336438])"
            ]
          },
          "metadata": {},
          "execution_count": 21
        }
      ]
    },
    {
      "cell_type": "code",
      "source": [
        "#if you want 1 number then just do avg\n",
        "cosine_similarity(temp, bow_rep_tfidf.toarray()).mean()"
      ],
      "metadata": {
        "colab": {
          "base_uri": "https://localhost:8080/"
        },
        "id": "S0c6mFVZJhIt",
        "outputId": "a5e583b5-6b2c-436f-d9e6-fed0045b13ae"
      },
      "execution_count": null,
      "outputs": [
        {
          "output_type": "execute_result",
          "data": {
            "text/plain": [
              "0.5350107008146793"
            ]
          },
          "metadata": {},
          "execution_count": 22
        }
      ]
    },
    {
      "cell_type": "code",
      "source": [
        "temp = tfidf.transform([\"dog and man are friends.\"])\n",
        "cosine_similarity(temp, bow_rep_tfidf.toarray()) #how similar the \"dog and man are friends.\" with the corpus"
      ],
      "metadata": {
        "colab": {
          "base_uri": "https://localhost:8080/"
        },
        "id": "zm46BVSiI-Hc",
        "outputId": "1d5ea80f-1be9-4a6d-9937-0ac1e2586c5a"
      },
      "execution_count": null,
      "outputs": [
        {
          "output_type": "execute_result",
          "data": {
            "text/plain": [
              "array([[0.75316704, 0.75316704, 0.31685436, 0.31685436]])"
            ]
          },
          "metadata": {},
          "execution_count": 23
        }
      ]
    },
    {
      "cell_type": "code",
      "source": [
        "temp2 = tfidf.transform([\"dog eats man\"])\n",
        "similar2 = cosine_similarity(temp2, bow_rep_tfidf.toarray()) #how similar the \"dog eats man\" with the corpus\n",
        "print(similar2)\n",
        "print(similar2.mean())"
      ],
      "metadata": {
        "colab": {
          "base_uri": "https://localhost:8080/"
        },
        "id": "qYvL431VJMkT",
        "outputId": "95000937-8b30-4622-b2a0-18cbbebb7e74"
      },
      "execution_count": null,
      "outputs": [
        {
          "output_type": "stream",
          "name": "stdout",
          "text": [
            "[[0.56726059 0.56726059 0.60274773 0.60274773]]\n",
            "0.5850041623121691\n"
          ]
        }
      ]
    },
    {
      "cell_type": "code",
      "source": [
        "for i in range(len(cosine_sim)):\n",
        "  print( \"document position \", i ,\": cosine similarity score \",cosine_sim[i].mean()) #average similarity"
      ],
      "metadata": {
        "colab": {
          "base_uri": "https://localhost:8080/"
        },
        "id": "3h5BV6NCK3Cn",
        "outputId": "e174abd3-00b7-4cb2-846a-568bac414bb6"
      },
      "execution_count": null,
      "outputs": [
        {
          "output_type": "stream",
          "name": "stdout",
          "text": [
            "document position  0 : cosine similarity score  0.37899920077372284\n",
            "document position  1 : cosine similarity score  0.36875148864934953\n",
            "document position  2 : cosine similarity score  0.32490180416575665\n",
            "document position  3 : cosine similarity score  0.34883705183556357\n",
            "document position  4 : cosine similarity score  0.29652785237971474\n"
          ]
        }
      ]
    },
    {
      "cell_type": "markdown",
      "source": [
        "## TF-IDF Example - News similarity"
      ],
      "metadata": {
        "id": "P1x2fgSiJ5l9"
      }
    },
    {
      "cell_type": "code",
      "source": [
        "# download the BBC news blob (zip files)\n",
        "#the files contain 5 folders, each folder is a news category. Each news are in a text format\n",
        "\n",
        "!gdown 1eT3uD2ihxDEt2r2GJE6HeB_uhkgzh75V"
      ],
      "metadata": {
        "colab": {
          "base_uri": "https://localhost:8080/"
        },
        "id": "nVEAqVDf36hr",
        "outputId": "2193a85b-2e64-47e5-cf8b-540e7a354b00"
      },
      "execution_count": null,
      "outputs": [
        {
          "output_type": "stream",
          "name": "stdout",
          "text": [
            "Downloading...\n",
            "From: https://drive.google.com/uc?id=1eT3uD2ihxDEt2r2GJE6HeB_uhkgzh75V\n",
            "To: /content/bbc.zip\n",
            "\r  0% 0.00/2.90M [00:00<?, ?B/s]\r100% 2.90M/2.90M [00:00<00:00, 159MB/s]\n"
          ]
        }
      ]
    },
    {
      "cell_type": "code",
      "source": [
        "import zipfile\n",
        "from pathlib import Path"
      ],
      "metadata": {
        "id": "Tt0XIa3l5U9n"
      },
      "execution_count": null,
      "outputs": []
    },
    {
      "cell_type": "code",
      "source": [
        "#unzip file and put in a df with three columns: topic, heading, body\n",
        "with zipfile.ZipFile('/content/bbc.zip', 'r') as zip_ref:\n",
        "    topic = []\n",
        "    heading = []\n",
        "    body =[]\n",
        "    for filename in zip_ref.namelist():\n",
        "        if filename.endswith('.txt'):\n",
        "            with zip_ref.open(filename) as f:\n",
        "                text = f.read()\n",
        "                text = text.decode(\"latin1\").split(\"\\n\")\n",
        "                indiv_heading = text[0]\n",
        "                heading.append(indiv_heading)\n",
        "                indiv_body = ' '.join([l.strip() for l in text[1:]]).strip()\n",
        "                body.append(indiv_body)\n",
        "                topic.append(Path(filename).parent.name)\n",
        "\n",
        "news_df = pd.DataFrame({'topic': topic,'heading':heading,'body':body})\n",
        "news_df.head()"
      ],
      "metadata": {
        "colab": {
          "base_uri": "https://localhost:8080/",
          "height": 206
        },
        "id": "xokooTYw8U6J",
        "outputId": "0f085f9c-e4cc-4418-d33a-987d50b9fb1c"
      },
      "execution_count": null,
      "outputs": [
        {
          "output_type": "execute_result",
          "data": {
            "text/plain": [
              "      topic                            heading  \\\n",
              "0  business  Ad sales boost Time Warner profit   \n",
              "1  business   Dollar gains on Greenspan speech   \n",
              "2  business  Yukos unit buyer faces loan claim   \n",
              "3  business  High fuel prices hit BA's profits   \n",
              "4  business  Pernod takeover talk lifts Domecq   \n",
              "\n",
              "                                                body  \n",
              "0  Quarterly profits at US media giant TimeWarner...  \n",
              "1  The dollar has hit its highest level against t...  \n",
              "2  The owners of embattled Russian oil giant Yuko...  \n",
              "3  British Airways has blamed high fuel prices fo...  \n",
              "4  Shares in UK drinks and food firm Allied Domec...  "
            ],
            "text/html": [
              "\n",
              "  <div id=\"df-a11cbf09-fd0f-460d-a4be-e40314fc5425\" class=\"colab-df-container\">\n",
              "    <div>\n",
              "<style scoped>\n",
              "    .dataframe tbody tr th:only-of-type {\n",
              "        vertical-align: middle;\n",
              "    }\n",
              "\n",
              "    .dataframe tbody tr th {\n",
              "        vertical-align: top;\n",
              "    }\n",
              "\n",
              "    .dataframe thead th {\n",
              "        text-align: right;\n",
              "    }\n",
              "</style>\n",
              "<table border=\"1\" class=\"dataframe\">\n",
              "  <thead>\n",
              "    <tr style=\"text-align: right;\">\n",
              "      <th></th>\n",
              "      <th>topic</th>\n",
              "      <th>heading</th>\n",
              "      <th>body</th>\n",
              "    </tr>\n",
              "  </thead>\n",
              "  <tbody>\n",
              "    <tr>\n",
              "      <th>0</th>\n",
              "      <td>business</td>\n",
              "      <td>Ad sales boost Time Warner profit</td>\n",
              "      <td>Quarterly profits at US media giant TimeWarner...</td>\n",
              "    </tr>\n",
              "    <tr>\n",
              "      <th>1</th>\n",
              "      <td>business</td>\n",
              "      <td>Dollar gains on Greenspan speech</td>\n",
              "      <td>The dollar has hit its highest level against t...</td>\n",
              "    </tr>\n",
              "    <tr>\n",
              "      <th>2</th>\n",
              "      <td>business</td>\n",
              "      <td>Yukos unit buyer faces loan claim</td>\n",
              "      <td>The owners of embattled Russian oil giant Yuko...</td>\n",
              "    </tr>\n",
              "    <tr>\n",
              "      <th>3</th>\n",
              "      <td>business</td>\n",
              "      <td>High fuel prices hit BA's profits</td>\n",
              "      <td>British Airways has blamed high fuel prices fo...</td>\n",
              "    </tr>\n",
              "    <tr>\n",
              "      <th>4</th>\n",
              "      <td>business</td>\n",
              "      <td>Pernod takeover talk lifts Domecq</td>\n",
              "      <td>Shares in UK drinks and food firm Allied Domec...</td>\n",
              "    </tr>\n",
              "  </tbody>\n",
              "</table>\n",
              "</div>\n",
              "    <div class=\"colab-df-buttons\">\n",
              "\n",
              "  <div class=\"colab-df-container\">\n",
              "    <button class=\"colab-df-convert\" onclick=\"convertToInteractive('df-a11cbf09-fd0f-460d-a4be-e40314fc5425')\"\n",
              "            title=\"Convert this dataframe to an interactive table.\"\n",
              "            style=\"display:none;\">\n",
              "\n",
              "  <svg xmlns=\"http://www.w3.org/2000/svg\" height=\"24px\" viewBox=\"0 -960 960 960\">\n",
              "    <path d=\"M120-120v-720h720v720H120Zm60-500h600v-160H180v160Zm220 220h160v-160H400v160Zm0 220h160v-160H400v160ZM180-400h160v-160H180v160Zm440 0h160v-160H620v160ZM180-180h160v-160H180v160Zm440 0h160v-160H620v160Z\"/>\n",
              "  </svg>\n",
              "    </button>\n",
              "\n",
              "  <style>\n",
              "    .colab-df-container {\n",
              "      display:flex;\n",
              "      gap: 12px;\n",
              "    }\n",
              "\n",
              "    .colab-df-convert {\n",
              "      background-color: #E8F0FE;\n",
              "      border: none;\n",
              "      border-radius: 50%;\n",
              "      cursor: pointer;\n",
              "      display: none;\n",
              "      fill: #1967D2;\n",
              "      height: 32px;\n",
              "      padding: 0 0 0 0;\n",
              "      width: 32px;\n",
              "    }\n",
              "\n",
              "    .colab-df-convert:hover {\n",
              "      background-color: #E2EBFA;\n",
              "      box-shadow: 0px 1px 2px rgba(60, 64, 67, 0.3), 0px 1px 3px 1px rgba(60, 64, 67, 0.15);\n",
              "      fill: #174EA6;\n",
              "    }\n",
              "\n",
              "    .colab-df-buttons div {\n",
              "      margin-bottom: 4px;\n",
              "    }\n",
              "\n",
              "    [theme=dark] .colab-df-convert {\n",
              "      background-color: #3B4455;\n",
              "      fill: #D2E3FC;\n",
              "    }\n",
              "\n",
              "    [theme=dark] .colab-df-convert:hover {\n",
              "      background-color: #434B5C;\n",
              "      box-shadow: 0px 1px 3px 1px rgba(0, 0, 0, 0.15);\n",
              "      filter: drop-shadow(0px 1px 2px rgba(0, 0, 0, 0.3));\n",
              "      fill: #FFFFFF;\n",
              "    }\n",
              "  </style>\n",
              "\n",
              "    <script>\n",
              "      const buttonEl =\n",
              "        document.querySelector('#df-a11cbf09-fd0f-460d-a4be-e40314fc5425 button.colab-df-convert');\n",
              "      buttonEl.style.display =\n",
              "        google.colab.kernel.accessAllowed ? 'block' : 'none';\n",
              "\n",
              "      async function convertToInteractive(key) {\n",
              "        const element = document.querySelector('#df-a11cbf09-fd0f-460d-a4be-e40314fc5425');\n",
              "        const dataTable =\n",
              "          await google.colab.kernel.invokeFunction('convertToInteractive',\n",
              "                                                    [key], {});\n",
              "        if (!dataTable) return;\n",
              "\n",
              "        const docLinkHtml = 'Like what you see? Visit the ' +\n",
              "          '<a target=\"_blank\" href=https://colab.research.google.com/notebooks/data_table.ipynb>data table notebook</a>'\n",
              "          + ' to learn more about interactive tables.';\n",
              "        element.innerHTML = '';\n",
              "        dataTable['output_type'] = 'display_data';\n",
              "        await google.colab.output.renderOutput(dataTable, element);\n",
              "        const docLink = document.createElement('div');\n",
              "        docLink.innerHTML = docLinkHtml;\n",
              "        element.appendChild(docLink);\n",
              "      }\n",
              "    </script>\n",
              "  </div>\n",
              "\n",
              "\n",
              "<div id=\"df-6f0cb74b-959c-43bc-8d0a-6a378bfd2eae\">\n",
              "  <button class=\"colab-df-quickchart\" onclick=\"quickchart('df-6f0cb74b-959c-43bc-8d0a-6a378bfd2eae')\"\n",
              "            title=\"Suggest charts\"\n",
              "            style=\"display:none;\">\n",
              "\n",
              "<svg xmlns=\"http://www.w3.org/2000/svg\" height=\"24px\"viewBox=\"0 0 24 24\"\n",
              "     width=\"24px\">\n",
              "    <g>\n",
              "        <path d=\"M19 3H5c-1.1 0-2 .9-2 2v14c0 1.1.9 2 2 2h14c1.1 0 2-.9 2-2V5c0-1.1-.9-2-2-2zM9 17H7v-7h2v7zm4 0h-2V7h2v10zm4 0h-2v-4h2v4z\"/>\n",
              "    </g>\n",
              "</svg>\n",
              "  </button>\n",
              "\n",
              "<style>\n",
              "  .colab-df-quickchart {\n",
              "      --bg-color: #E8F0FE;\n",
              "      --fill-color: #1967D2;\n",
              "      --hover-bg-color: #E2EBFA;\n",
              "      --hover-fill-color: #174EA6;\n",
              "      --disabled-fill-color: #AAA;\n",
              "      --disabled-bg-color: #DDD;\n",
              "  }\n",
              "\n",
              "  [theme=dark] .colab-df-quickchart {\n",
              "      --bg-color: #3B4455;\n",
              "      --fill-color: #D2E3FC;\n",
              "      --hover-bg-color: #434B5C;\n",
              "      --hover-fill-color: #FFFFFF;\n",
              "      --disabled-bg-color: #3B4455;\n",
              "      --disabled-fill-color: #666;\n",
              "  }\n",
              "\n",
              "  .colab-df-quickchart {\n",
              "    background-color: var(--bg-color);\n",
              "    border: none;\n",
              "    border-radius: 50%;\n",
              "    cursor: pointer;\n",
              "    display: none;\n",
              "    fill: var(--fill-color);\n",
              "    height: 32px;\n",
              "    padding: 0;\n",
              "    width: 32px;\n",
              "  }\n",
              "\n",
              "  .colab-df-quickchart:hover {\n",
              "    background-color: var(--hover-bg-color);\n",
              "    box-shadow: 0 1px 2px rgba(60, 64, 67, 0.3), 0 1px 3px 1px rgba(60, 64, 67, 0.15);\n",
              "    fill: var(--button-hover-fill-color);\n",
              "  }\n",
              "\n",
              "  .colab-df-quickchart-complete:disabled,\n",
              "  .colab-df-quickchart-complete:disabled:hover {\n",
              "    background-color: var(--disabled-bg-color);\n",
              "    fill: var(--disabled-fill-color);\n",
              "    box-shadow: none;\n",
              "  }\n",
              "\n",
              "  .colab-df-spinner {\n",
              "    border: 2px solid var(--fill-color);\n",
              "    border-color: transparent;\n",
              "    border-bottom-color: var(--fill-color);\n",
              "    animation:\n",
              "      spin 1s steps(1) infinite;\n",
              "  }\n",
              "\n",
              "  @keyframes spin {\n",
              "    0% {\n",
              "      border-color: transparent;\n",
              "      border-bottom-color: var(--fill-color);\n",
              "      border-left-color: var(--fill-color);\n",
              "    }\n",
              "    20% {\n",
              "      border-color: transparent;\n",
              "      border-left-color: var(--fill-color);\n",
              "      border-top-color: var(--fill-color);\n",
              "    }\n",
              "    30% {\n",
              "      border-color: transparent;\n",
              "      border-left-color: var(--fill-color);\n",
              "      border-top-color: var(--fill-color);\n",
              "      border-right-color: var(--fill-color);\n",
              "    }\n",
              "    40% {\n",
              "      border-color: transparent;\n",
              "      border-right-color: var(--fill-color);\n",
              "      border-top-color: var(--fill-color);\n",
              "    }\n",
              "    60% {\n",
              "      border-color: transparent;\n",
              "      border-right-color: var(--fill-color);\n",
              "    }\n",
              "    80% {\n",
              "      border-color: transparent;\n",
              "      border-right-color: var(--fill-color);\n",
              "      border-bottom-color: var(--fill-color);\n",
              "    }\n",
              "    90% {\n",
              "      border-color: transparent;\n",
              "      border-bottom-color: var(--fill-color);\n",
              "    }\n",
              "  }\n",
              "</style>\n",
              "\n",
              "  <script>\n",
              "    async function quickchart(key) {\n",
              "      const quickchartButtonEl =\n",
              "        document.querySelector('#' + key + ' button');\n",
              "      quickchartButtonEl.disabled = true;  // To prevent multiple clicks.\n",
              "      quickchartButtonEl.classList.add('colab-df-spinner');\n",
              "      try {\n",
              "        const charts = await google.colab.kernel.invokeFunction(\n",
              "            'suggestCharts', [key], {});\n",
              "      } catch (error) {\n",
              "        console.error('Error during call to suggestCharts:', error);\n",
              "      }\n",
              "      quickchartButtonEl.classList.remove('colab-df-spinner');\n",
              "      quickchartButtonEl.classList.add('colab-df-quickchart-complete');\n",
              "    }\n",
              "    (() => {\n",
              "      let quickchartButtonEl =\n",
              "        document.querySelector('#df-6f0cb74b-959c-43bc-8d0a-6a378bfd2eae button');\n",
              "      quickchartButtonEl.style.display =\n",
              "        google.colab.kernel.accessAllowed ? 'block' : 'none';\n",
              "    })();\n",
              "  </script>\n",
              "</div>\n",
              "\n",
              "    </div>\n",
              "  </div>\n"
            ]
          },
          "metadata": {},
          "execution_count": 38
        }
      ]
    },
    {
      "cell_type": "code",
      "source": [
        "news_df.sample(10) #random inspect 10 samples"
      ],
      "metadata": {
        "colab": {
          "base_uri": "https://localhost:8080/",
          "height": 449
        },
        "id": "F4ATi3jB5i3c",
        "outputId": "48f3a5f0-8cf2-4e62-a1b7-7da8052e5b22"
      },
      "execution_count": null,
      "outputs": [
        {
          "output_type": "execute_result",
          "data": {
            "text/plain": [
              "              topic                             heading  \\\n",
              "700   entertainment   Little Britain vies for TV trophy   \n",
              "1092       politics      Blair 'pressing US on climate'   \n",
              "8          business   Ethiopia's crop production up 24%   \n",
              "722   entertainment     TV show unites Angolan families   \n",
              "451        business   McDonald's boss Bell dies aged 44   \n",
              "267        business  Giving financial gifts to children   \n",
              "236        business   Britannia members' Â£42m windfall   \n",
              "1297       politics   Brown's poll campaign move denied   \n",
              "1267       politics    Observers to monitor UK election   \n",
              "818   entertainment           Double win for Sea Inside   \n",
              "\n",
              "                                                   body  \n",
              "700   BBC hits Little Britain and Strictly Come Danc...  \n",
              "1092  Tony Blair is pressing the US to cut greenhous...  \n",
              "8     Ethiopia produced 14.27 million tonnes of crop...  \n",
              "722   Angolan families who are attempting to track e...  \n",
              "451   Charlie Bell, the straight-talking former head...  \n",
              "267   Your child or grandchild may want the latest t...  \n",
              "236   More than 800,000 Britannia Building Society m...  \n",
              "1297  The government has denied reports that Gordon ...  \n",
              "1267  Ministers will invite international observers ...  \n",
              "818   Spanish movie The Sea Inside has been named be...  "
            ],
            "text/html": [
              "\n",
              "  <div id=\"df-36ea966e-47df-4766-aff9-9c60d72dd397\" class=\"colab-df-container\">\n",
              "    <div>\n",
              "<style scoped>\n",
              "    .dataframe tbody tr th:only-of-type {\n",
              "        vertical-align: middle;\n",
              "    }\n",
              "\n",
              "    .dataframe tbody tr th {\n",
              "        vertical-align: top;\n",
              "    }\n",
              "\n",
              "    .dataframe thead th {\n",
              "        text-align: right;\n",
              "    }\n",
              "</style>\n",
              "<table border=\"1\" class=\"dataframe\">\n",
              "  <thead>\n",
              "    <tr style=\"text-align: right;\">\n",
              "      <th></th>\n",
              "      <th>topic</th>\n",
              "      <th>heading</th>\n",
              "      <th>body</th>\n",
              "    </tr>\n",
              "  </thead>\n",
              "  <tbody>\n",
              "    <tr>\n",
              "      <th>700</th>\n",
              "      <td>entertainment</td>\n",
              "      <td>Little Britain vies for TV trophy</td>\n",
              "      <td>BBC hits Little Britain and Strictly Come Danc...</td>\n",
              "    </tr>\n",
              "    <tr>\n",
              "      <th>1092</th>\n",
              "      <td>politics</td>\n",
              "      <td>Blair 'pressing US on climate'</td>\n",
              "      <td>Tony Blair is pressing the US to cut greenhous...</td>\n",
              "    </tr>\n",
              "    <tr>\n",
              "      <th>8</th>\n",
              "      <td>business</td>\n",
              "      <td>Ethiopia's crop production up 24%</td>\n",
              "      <td>Ethiopia produced 14.27 million tonnes of crop...</td>\n",
              "    </tr>\n",
              "    <tr>\n",
              "      <th>722</th>\n",
              "      <td>entertainment</td>\n",
              "      <td>TV show unites Angolan families</td>\n",
              "      <td>Angolan families who are attempting to track e...</td>\n",
              "    </tr>\n",
              "    <tr>\n",
              "      <th>451</th>\n",
              "      <td>business</td>\n",
              "      <td>McDonald's boss Bell dies aged 44</td>\n",
              "      <td>Charlie Bell, the straight-talking former head...</td>\n",
              "    </tr>\n",
              "    <tr>\n",
              "      <th>267</th>\n",
              "      <td>business</td>\n",
              "      <td>Giving financial gifts to children</td>\n",
              "      <td>Your child or grandchild may want the latest t...</td>\n",
              "    </tr>\n",
              "    <tr>\n",
              "      <th>236</th>\n",
              "      <td>business</td>\n",
              "      <td>Britannia members' Â£42m windfall</td>\n",
              "      <td>More than 800,000 Britannia Building Society m...</td>\n",
              "    </tr>\n",
              "    <tr>\n",
              "      <th>1297</th>\n",
              "      <td>politics</td>\n",
              "      <td>Brown's poll campaign move denied</td>\n",
              "      <td>The government has denied reports that Gordon ...</td>\n",
              "    </tr>\n",
              "    <tr>\n",
              "      <th>1267</th>\n",
              "      <td>politics</td>\n",
              "      <td>Observers to monitor UK election</td>\n",
              "      <td>Ministers will invite international observers ...</td>\n",
              "    </tr>\n",
              "    <tr>\n",
              "      <th>818</th>\n",
              "      <td>entertainment</td>\n",
              "      <td>Double win for Sea Inside</td>\n",
              "      <td>Spanish movie The Sea Inside has been named be...</td>\n",
              "    </tr>\n",
              "  </tbody>\n",
              "</table>\n",
              "</div>\n",
              "    <div class=\"colab-df-buttons\">\n",
              "\n",
              "  <div class=\"colab-df-container\">\n",
              "    <button class=\"colab-df-convert\" onclick=\"convertToInteractive('df-36ea966e-47df-4766-aff9-9c60d72dd397')\"\n",
              "            title=\"Convert this dataframe to an interactive table.\"\n",
              "            style=\"display:none;\">\n",
              "\n",
              "  <svg xmlns=\"http://www.w3.org/2000/svg\" height=\"24px\" viewBox=\"0 -960 960 960\">\n",
              "    <path d=\"M120-120v-720h720v720H120Zm60-500h600v-160H180v160Zm220 220h160v-160H400v160Zm0 220h160v-160H400v160ZM180-400h160v-160H180v160Zm440 0h160v-160H620v160ZM180-180h160v-160H180v160Zm440 0h160v-160H620v160Z\"/>\n",
              "  </svg>\n",
              "    </button>\n",
              "\n",
              "  <style>\n",
              "    .colab-df-container {\n",
              "      display:flex;\n",
              "      gap: 12px;\n",
              "    }\n",
              "\n",
              "    .colab-df-convert {\n",
              "      background-color: #E8F0FE;\n",
              "      border: none;\n",
              "      border-radius: 50%;\n",
              "      cursor: pointer;\n",
              "      display: none;\n",
              "      fill: #1967D2;\n",
              "      height: 32px;\n",
              "      padding: 0 0 0 0;\n",
              "      width: 32px;\n",
              "    }\n",
              "\n",
              "    .colab-df-convert:hover {\n",
              "      background-color: #E2EBFA;\n",
              "      box-shadow: 0px 1px 2px rgba(60, 64, 67, 0.3), 0px 1px 3px 1px rgba(60, 64, 67, 0.15);\n",
              "      fill: #174EA6;\n",
              "    }\n",
              "\n",
              "    .colab-df-buttons div {\n",
              "      margin-bottom: 4px;\n",
              "    }\n",
              "\n",
              "    [theme=dark] .colab-df-convert {\n",
              "      background-color: #3B4455;\n",
              "      fill: #D2E3FC;\n",
              "    }\n",
              "\n",
              "    [theme=dark] .colab-df-convert:hover {\n",
              "      background-color: #434B5C;\n",
              "      box-shadow: 0px 1px 3px 1px rgba(0, 0, 0, 0.15);\n",
              "      filter: drop-shadow(0px 1px 2px rgba(0, 0, 0, 0.3));\n",
              "      fill: #FFFFFF;\n",
              "    }\n",
              "  </style>\n",
              "\n",
              "    <script>\n",
              "      const buttonEl =\n",
              "        document.querySelector('#df-36ea966e-47df-4766-aff9-9c60d72dd397 button.colab-df-convert');\n",
              "      buttonEl.style.display =\n",
              "        google.colab.kernel.accessAllowed ? 'block' : 'none';\n",
              "\n",
              "      async function convertToInteractive(key) {\n",
              "        const element = document.querySelector('#df-36ea966e-47df-4766-aff9-9c60d72dd397');\n",
              "        const dataTable =\n",
              "          await google.colab.kernel.invokeFunction('convertToInteractive',\n",
              "                                                    [key], {});\n",
              "        if (!dataTable) return;\n",
              "\n",
              "        const docLinkHtml = 'Like what you see? Visit the ' +\n",
              "          '<a target=\"_blank\" href=https://colab.research.google.com/notebooks/data_table.ipynb>data table notebook</a>'\n",
              "          + ' to learn more about interactive tables.';\n",
              "        element.innerHTML = '';\n",
              "        dataTable['output_type'] = 'display_data';\n",
              "        await google.colab.output.renderOutput(dataTable, element);\n",
              "        const docLink = document.createElement('div');\n",
              "        docLink.innerHTML = docLinkHtml;\n",
              "        element.appendChild(docLink);\n",
              "      }\n",
              "    </script>\n",
              "  </div>\n",
              "\n",
              "\n",
              "<div id=\"df-c62ad8dd-e6da-48b2-9190-eb43c18d7547\">\n",
              "  <button class=\"colab-df-quickchart\" onclick=\"quickchart('df-c62ad8dd-e6da-48b2-9190-eb43c18d7547')\"\n",
              "            title=\"Suggest charts\"\n",
              "            style=\"display:none;\">\n",
              "\n",
              "<svg xmlns=\"http://www.w3.org/2000/svg\" height=\"24px\"viewBox=\"0 0 24 24\"\n",
              "     width=\"24px\">\n",
              "    <g>\n",
              "        <path d=\"M19 3H5c-1.1 0-2 .9-2 2v14c0 1.1.9 2 2 2h14c1.1 0 2-.9 2-2V5c0-1.1-.9-2-2-2zM9 17H7v-7h2v7zm4 0h-2V7h2v10zm4 0h-2v-4h2v4z\"/>\n",
              "    </g>\n",
              "</svg>\n",
              "  </button>\n",
              "\n",
              "<style>\n",
              "  .colab-df-quickchart {\n",
              "      --bg-color: #E8F0FE;\n",
              "      --fill-color: #1967D2;\n",
              "      --hover-bg-color: #E2EBFA;\n",
              "      --hover-fill-color: #174EA6;\n",
              "      --disabled-fill-color: #AAA;\n",
              "      --disabled-bg-color: #DDD;\n",
              "  }\n",
              "\n",
              "  [theme=dark] .colab-df-quickchart {\n",
              "      --bg-color: #3B4455;\n",
              "      --fill-color: #D2E3FC;\n",
              "      --hover-bg-color: #434B5C;\n",
              "      --hover-fill-color: #FFFFFF;\n",
              "      --disabled-bg-color: #3B4455;\n",
              "      --disabled-fill-color: #666;\n",
              "  }\n",
              "\n",
              "  .colab-df-quickchart {\n",
              "    background-color: var(--bg-color);\n",
              "    border: none;\n",
              "    border-radius: 50%;\n",
              "    cursor: pointer;\n",
              "    display: none;\n",
              "    fill: var(--fill-color);\n",
              "    height: 32px;\n",
              "    padding: 0;\n",
              "    width: 32px;\n",
              "  }\n",
              "\n",
              "  .colab-df-quickchart:hover {\n",
              "    background-color: var(--hover-bg-color);\n",
              "    box-shadow: 0 1px 2px rgba(60, 64, 67, 0.3), 0 1px 3px 1px rgba(60, 64, 67, 0.15);\n",
              "    fill: var(--button-hover-fill-color);\n",
              "  }\n",
              "\n",
              "  .colab-df-quickchart-complete:disabled,\n",
              "  .colab-df-quickchart-complete:disabled:hover {\n",
              "    background-color: var(--disabled-bg-color);\n",
              "    fill: var(--disabled-fill-color);\n",
              "    box-shadow: none;\n",
              "  }\n",
              "\n",
              "  .colab-df-spinner {\n",
              "    border: 2px solid var(--fill-color);\n",
              "    border-color: transparent;\n",
              "    border-bottom-color: var(--fill-color);\n",
              "    animation:\n",
              "      spin 1s steps(1) infinite;\n",
              "  }\n",
              "\n",
              "  @keyframes spin {\n",
              "    0% {\n",
              "      border-color: transparent;\n",
              "      border-bottom-color: var(--fill-color);\n",
              "      border-left-color: var(--fill-color);\n",
              "    }\n",
              "    20% {\n",
              "      border-color: transparent;\n",
              "      border-left-color: var(--fill-color);\n",
              "      border-top-color: var(--fill-color);\n",
              "    }\n",
              "    30% {\n",
              "      border-color: transparent;\n",
              "      border-left-color: var(--fill-color);\n",
              "      border-top-color: var(--fill-color);\n",
              "      border-right-color: var(--fill-color);\n",
              "    }\n",
              "    40% {\n",
              "      border-color: transparent;\n",
              "      border-right-color: var(--fill-color);\n",
              "      border-top-color: var(--fill-color);\n",
              "    }\n",
              "    60% {\n",
              "      border-color: transparent;\n",
              "      border-right-color: var(--fill-color);\n",
              "    }\n",
              "    80% {\n",
              "      border-color: transparent;\n",
              "      border-right-color: var(--fill-color);\n",
              "      border-bottom-color: var(--fill-color);\n",
              "    }\n",
              "    90% {\n",
              "      border-color: transparent;\n",
              "      border-bottom-color: var(--fill-color);\n",
              "    }\n",
              "  }\n",
              "</style>\n",
              "\n",
              "  <script>\n",
              "    async function quickchart(key) {\n",
              "      const quickchartButtonEl =\n",
              "        document.querySelector('#' + key + ' button');\n",
              "      quickchartButtonEl.disabled = true;  // To prevent multiple clicks.\n",
              "      quickchartButtonEl.classList.add('colab-df-spinner');\n",
              "      try {\n",
              "        const charts = await google.colab.kernel.invokeFunction(\n",
              "            'suggestCharts', [key], {});\n",
              "      } catch (error) {\n",
              "        console.error('Error during call to suggestCharts:', error);\n",
              "      }\n",
              "      quickchartButtonEl.classList.remove('colab-df-spinner');\n",
              "      quickchartButtonEl.classList.add('colab-df-quickchart-complete');\n",
              "    }\n",
              "    (() => {\n",
              "      let quickchartButtonEl =\n",
              "        document.querySelector('#df-c62ad8dd-e6da-48b2-9190-eb43c18d7547 button');\n",
              "      quickchartButtonEl.style.display =\n",
              "        google.colab.kernel.accessAllowed ? 'block' : 'none';\n",
              "    })();\n",
              "  </script>\n",
              "</div>\n",
              "\n",
              "    </div>\n",
              "  </div>\n"
            ]
          },
          "metadata": {},
          "execution_count": 41
        }
      ]
    },
    {
      "cell_type": "code",
      "source": [
        "#percent of news in each topic\n",
        "news_df.topic.value_counts(normalize=True).to_frame('count').style.format({'count': '{:,.2%}'.format})\n"
      ],
      "metadata": {
        "id": "i5l8CWqVKUY2",
        "colab": {
          "base_uri": "https://localhost:8080/",
          "height": 206
        },
        "outputId": "b3000615-bb13-4b8f-e9ec-4af2e7afa341"
      },
      "execution_count": null,
      "outputs": [
        {
          "output_type": "execute_result",
          "data": {
            "text/plain": [
              "<pandas.io.formats.style.Styler at 0x7a3d896b2b30>"
            ],
            "text/html": [
              "<style type=\"text/css\">\n",
              "</style>\n",
              "<table id=\"T_6c7b9\" class=\"dataframe\">\n",
              "  <thead>\n",
              "    <tr>\n",
              "      <th class=\"blank level0\" >&nbsp;</th>\n",
              "      <th id=\"T_6c7b9_level0_col0\" class=\"col_heading level0 col0\" >count</th>\n",
              "    </tr>\n",
              "  </thead>\n",
              "  <tbody>\n",
              "    <tr>\n",
              "      <th id=\"T_6c7b9_level0_row0\" class=\"row_heading level0 row0\" >sport</th>\n",
              "      <td id=\"T_6c7b9_row0_col0\" class=\"data row0 col0\" >22.97%</td>\n",
              "    </tr>\n",
              "    <tr>\n",
              "      <th id=\"T_6c7b9_level0_row1\" class=\"row_heading level0 row1\" >business</th>\n",
              "      <td id=\"T_6c7b9_row1_col0\" class=\"data row1 col0\" >22.92%</td>\n",
              "    </tr>\n",
              "    <tr>\n",
              "      <th id=\"T_6c7b9_level0_row2\" class=\"row_heading level0 row2\" >politics</th>\n",
              "      <td id=\"T_6c7b9_row2_col0\" class=\"data row2 col0\" >18.74%</td>\n",
              "    </tr>\n",
              "    <tr>\n",
              "      <th id=\"T_6c7b9_level0_row3\" class=\"row_heading level0 row3\" >tech</th>\n",
              "      <td id=\"T_6c7b9_row3_col0\" class=\"data row3 col0\" >18.02%</td>\n",
              "    </tr>\n",
              "    <tr>\n",
              "      <th id=\"T_6c7b9_level0_row4\" class=\"row_heading level0 row4\" >entertainment</th>\n",
              "      <td id=\"T_6c7b9_row4_col0\" class=\"data row4 col0\" >17.35%</td>\n",
              "    </tr>\n",
              "  </tbody>\n",
              "</table>\n"
            ]
          },
          "metadata": {},
          "execution_count": 42
        }
      ]
    },
    {
      "cell_type": "code",
      "source": [
        "len(news_df)"
      ],
      "metadata": {
        "colab": {
          "base_uri": "https://localhost:8080/"
        },
        "id": "DVGYH7S-HtyM",
        "outputId": "2d17a830-aee7-447f-b201-d9377ded7db2"
      },
      "execution_count": null,
      "outputs": [
        {
          "output_type": "execute_result",
          "data": {
            "text/plain": [
              "2225"
            ]
          },
          "metadata": {},
          "execution_count": 46
        }
      ]
    },
    {
      "cell_type": "code",
      "source": [
        "#now create a tfidf for the news\n",
        "\n",
        "tfidf = TfidfVectorizer(stop_words='english') #vectorize and elmininate english stop words\n",
        "dtm_tfidf = tfidf.fit_transform(news_df.body)\n",
        "tokens = tfidf.get_feature_names_out()\n",
        "dtm_tfidf.shape #225 docs with 28,980 terms!"
      ],
      "metadata": {
        "colab": {
          "base_uri": "https://localhost:8080/"
        },
        "id": "EmftXQqTHPIB",
        "outputId": "4803767e-9751-4197-c16e-d0ef9983797c"
      },
      "execution_count": null,
      "outputs": [
        {
          "output_type": "execute_result",
          "data": {
            "text/plain": [
              "(2225, 28980)"
            ]
          },
          "metadata": {},
          "execution_count": 45
        }
      ]
    },
    {
      "cell_type": "code",
      "source": [
        "dtm_tfidf.sum(axis=0)"
      ],
      "metadata": {
        "colab": {
          "base_uri": "https://localhost:8080/"
        },
        "id": "0lNZKb7UH_up",
        "outputId": "55aea651-8616-430f-dc52-9ba5af0dcbb7"
      },
      "execution_count": null,
      "outputs": [
        {
          "output_type": "execute_result",
          "data": {
            "text/plain": [
              "matrix([[ 0.30312836, 21.00030792,  0.06511574, ...,  0.12162892,\n",
              "          0.30869429,  0.2497171 ]])"
            ]
          },
          "metadata": {},
          "execution_count": 51
        }
      ]
    },
    {
      "cell_type": "code",
      "source": [
        "dtm_tfidf.sum(axis=0).A1"
      ],
      "metadata": {
        "colab": {
          "base_uri": "https://localhost:8080/"
        },
        "id": "50cyAbQbIKPt",
        "outputId": "cab4c6a3-a67d-41c7-d26a-eb166c110e24"
      },
      "execution_count": null,
      "outputs": [
        {
          "output_type": "execute_result",
          "data": {
            "text/plain": [
              "array([ 0.30312836, 21.00030792,  0.06511574, ...,  0.12162892,\n",
              "        0.30869429,  0.2497171 ])"
            ]
          },
          "metadata": {},
          "execution_count": 52
        }
      ]
    },
    {
      "cell_type": "code",
      "source": [
        "#add all tokens in a new DF with its associated tfidf score\n",
        "#sort the toke by its tf-idf score\n",
        "token_freq = (pd.DataFrame({'tfidf': dtm_tfidf.sum(axis=0).A1 #A1 to flatten the matrix to array\n",
        "                            ,\n",
        "                            'token': tokens})\n",
        "              .sort_values('tfidf', ascending=False))"
      ],
      "metadata": {
        "id": "_IYcM5DUHpmL"
      },
      "execution_count": null,
      "outputs": []
    },
    {
      "cell_type": "code",
      "source": [
        "token_freq"
      ],
      "metadata": {
        "colab": {
          "base_uri": "https://localhost:8080/",
          "height": 423
        },
        "id": "tACsfR5DH0pU",
        "outputId": "6b8758d8-3fea-46fc-8ec5-3e4250365eb9"
      },
      "execution_count": null,
      "outputs": [
        {
          "output_type": "execute_result",
          "data": {
            "text/plain": [
              "           tfidf       token\n",
              "22743  87.251494        said\n",
              "17635  58.220783          mr\n",
              "28821  41.982178        year\n",
              "19471  37.303707      people\n",
              "18044  34.197388         new\n",
              "...          ...         ...\n",
              "23933   0.014186       sioux\n",
              "3381    0.014186        bane\n",
              "3883    0.014186     biassed\n",
              "8973    0.014186     duetted\n",
              "24501   0.014186  speechless\n",
              "\n",
              "[28980 rows x 2 columns]"
            ],
            "text/html": [
              "\n",
              "  <div id=\"df-79e018cd-b466-4163-aa62-bd3f6ed4cc4d\" class=\"colab-df-container\">\n",
              "    <div>\n",
              "<style scoped>\n",
              "    .dataframe tbody tr th:only-of-type {\n",
              "        vertical-align: middle;\n",
              "    }\n",
              "\n",
              "    .dataframe tbody tr th {\n",
              "        vertical-align: top;\n",
              "    }\n",
              "\n",
              "    .dataframe thead th {\n",
              "        text-align: right;\n",
              "    }\n",
              "</style>\n",
              "<table border=\"1\" class=\"dataframe\">\n",
              "  <thead>\n",
              "    <tr style=\"text-align: right;\">\n",
              "      <th></th>\n",
              "      <th>tfidf</th>\n",
              "      <th>token</th>\n",
              "    </tr>\n",
              "  </thead>\n",
              "  <tbody>\n",
              "    <tr>\n",
              "      <th>22743</th>\n",
              "      <td>87.251494</td>\n",
              "      <td>said</td>\n",
              "    </tr>\n",
              "    <tr>\n",
              "      <th>17635</th>\n",
              "      <td>58.220783</td>\n",
              "      <td>mr</td>\n",
              "    </tr>\n",
              "    <tr>\n",
              "      <th>28821</th>\n",
              "      <td>41.982178</td>\n",
              "      <td>year</td>\n",
              "    </tr>\n",
              "    <tr>\n",
              "      <th>19471</th>\n",
              "      <td>37.303707</td>\n",
              "      <td>people</td>\n",
              "    </tr>\n",
              "    <tr>\n",
              "      <th>18044</th>\n",
              "      <td>34.197388</td>\n",
              "      <td>new</td>\n",
              "    </tr>\n",
              "    <tr>\n",
              "      <th>...</th>\n",
              "      <td>...</td>\n",
              "      <td>...</td>\n",
              "    </tr>\n",
              "    <tr>\n",
              "      <th>23933</th>\n",
              "      <td>0.014186</td>\n",
              "      <td>sioux</td>\n",
              "    </tr>\n",
              "    <tr>\n",
              "      <th>3381</th>\n",
              "      <td>0.014186</td>\n",
              "      <td>bane</td>\n",
              "    </tr>\n",
              "    <tr>\n",
              "      <th>3883</th>\n",
              "      <td>0.014186</td>\n",
              "      <td>biassed</td>\n",
              "    </tr>\n",
              "    <tr>\n",
              "      <th>8973</th>\n",
              "      <td>0.014186</td>\n",
              "      <td>duetted</td>\n",
              "    </tr>\n",
              "    <tr>\n",
              "      <th>24501</th>\n",
              "      <td>0.014186</td>\n",
              "      <td>speechless</td>\n",
              "    </tr>\n",
              "  </tbody>\n",
              "</table>\n",
              "<p>28980 rows × 2 columns</p>\n",
              "</div>\n",
              "    <div class=\"colab-df-buttons\">\n",
              "\n",
              "  <div class=\"colab-df-container\">\n",
              "    <button class=\"colab-df-convert\" onclick=\"convertToInteractive('df-79e018cd-b466-4163-aa62-bd3f6ed4cc4d')\"\n",
              "            title=\"Convert this dataframe to an interactive table.\"\n",
              "            style=\"display:none;\">\n",
              "\n",
              "  <svg xmlns=\"http://www.w3.org/2000/svg\" height=\"24px\" viewBox=\"0 -960 960 960\">\n",
              "    <path d=\"M120-120v-720h720v720H120Zm60-500h600v-160H180v160Zm220 220h160v-160H400v160Zm0 220h160v-160H400v160ZM180-400h160v-160H180v160Zm440 0h160v-160H620v160ZM180-180h160v-160H180v160Zm440 0h160v-160H620v160Z\"/>\n",
              "  </svg>\n",
              "    </button>\n",
              "\n",
              "  <style>\n",
              "    .colab-df-container {\n",
              "      display:flex;\n",
              "      gap: 12px;\n",
              "    }\n",
              "\n",
              "    .colab-df-convert {\n",
              "      background-color: #E8F0FE;\n",
              "      border: none;\n",
              "      border-radius: 50%;\n",
              "      cursor: pointer;\n",
              "      display: none;\n",
              "      fill: #1967D2;\n",
              "      height: 32px;\n",
              "      padding: 0 0 0 0;\n",
              "      width: 32px;\n",
              "    }\n",
              "\n",
              "    .colab-df-convert:hover {\n",
              "      background-color: #E2EBFA;\n",
              "      box-shadow: 0px 1px 2px rgba(60, 64, 67, 0.3), 0px 1px 3px 1px rgba(60, 64, 67, 0.15);\n",
              "      fill: #174EA6;\n",
              "    }\n",
              "\n",
              "    .colab-df-buttons div {\n",
              "      margin-bottom: 4px;\n",
              "    }\n",
              "\n",
              "    [theme=dark] .colab-df-convert {\n",
              "      background-color: #3B4455;\n",
              "      fill: #D2E3FC;\n",
              "    }\n",
              "\n",
              "    [theme=dark] .colab-df-convert:hover {\n",
              "      background-color: #434B5C;\n",
              "      box-shadow: 0px 1px 3px 1px rgba(0, 0, 0, 0.15);\n",
              "      filter: drop-shadow(0px 1px 2px rgba(0, 0, 0, 0.3));\n",
              "      fill: #FFFFFF;\n",
              "    }\n",
              "  </style>\n",
              "\n",
              "    <script>\n",
              "      const buttonEl =\n",
              "        document.querySelector('#df-79e018cd-b466-4163-aa62-bd3f6ed4cc4d button.colab-df-convert');\n",
              "      buttonEl.style.display =\n",
              "        google.colab.kernel.accessAllowed ? 'block' : 'none';\n",
              "\n",
              "      async function convertToInteractive(key) {\n",
              "        const element = document.querySelector('#df-79e018cd-b466-4163-aa62-bd3f6ed4cc4d');\n",
              "        const dataTable =\n",
              "          await google.colab.kernel.invokeFunction('convertToInteractive',\n",
              "                                                    [key], {});\n",
              "        if (!dataTable) return;\n",
              "\n",
              "        const docLinkHtml = 'Like what you see? Visit the ' +\n",
              "          '<a target=\"_blank\" href=https://colab.research.google.com/notebooks/data_table.ipynb>data table notebook</a>'\n",
              "          + ' to learn more about interactive tables.';\n",
              "        element.innerHTML = '';\n",
              "        dataTable['output_type'] = 'display_data';\n",
              "        await google.colab.output.renderOutput(dataTable, element);\n",
              "        const docLink = document.createElement('div');\n",
              "        docLink.innerHTML = docLinkHtml;\n",
              "        element.appendChild(docLink);\n",
              "      }\n",
              "    </script>\n",
              "  </div>\n",
              "\n",
              "\n",
              "<div id=\"df-fe0d328b-f68e-4437-aa58-4286ac21fcfd\">\n",
              "  <button class=\"colab-df-quickchart\" onclick=\"quickchart('df-fe0d328b-f68e-4437-aa58-4286ac21fcfd')\"\n",
              "            title=\"Suggest charts\"\n",
              "            style=\"display:none;\">\n",
              "\n",
              "<svg xmlns=\"http://www.w3.org/2000/svg\" height=\"24px\"viewBox=\"0 0 24 24\"\n",
              "     width=\"24px\">\n",
              "    <g>\n",
              "        <path d=\"M19 3H5c-1.1 0-2 .9-2 2v14c0 1.1.9 2 2 2h14c1.1 0 2-.9 2-2V5c0-1.1-.9-2-2-2zM9 17H7v-7h2v7zm4 0h-2V7h2v10zm4 0h-2v-4h2v4z\"/>\n",
              "    </g>\n",
              "</svg>\n",
              "  </button>\n",
              "\n",
              "<style>\n",
              "  .colab-df-quickchart {\n",
              "      --bg-color: #E8F0FE;\n",
              "      --fill-color: #1967D2;\n",
              "      --hover-bg-color: #E2EBFA;\n",
              "      --hover-fill-color: #174EA6;\n",
              "      --disabled-fill-color: #AAA;\n",
              "      --disabled-bg-color: #DDD;\n",
              "  }\n",
              "\n",
              "  [theme=dark] .colab-df-quickchart {\n",
              "      --bg-color: #3B4455;\n",
              "      --fill-color: #D2E3FC;\n",
              "      --hover-bg-color: #434B5C;\n",
              "      --hover-fill-color: #FFFFFF;\n",
              "      --disabled-bg-color: #3B4455;\n",
              "      --disabled-fill-color: #666;\n",
              "  }\n",
              "\n",
              "  .colab-df-quickchart {\n",
              "    background-color: var(--bg-color);\n",
              "    border: none;\n",
              "    border-radius: 50%;\n",
              "    cursor: pointer;\n",
              "    display: none;\n",
              "    fill: var(--fill-color);\n",
              "    height: 32px;\n",
              "    padding: 0;\n",
              "    width: 32px;\n",
              "  }\n",
              "\n",
              "  .colab-df-quickchart:hover {\n",
              "    background-color: var(--hover-bg-color);\n",
              "    box-shadow: 0 1px 2px rgba(60, 64, 67, 0.3), 0 1px 3px 1px rgba(60, 64, 67, 0.15);\n",
              "    fill: var(--button-hover-fill-color);\n",
              "  }\n",
              "\n",
              "  .colab-df-quickchart-complete:disabled,\n",
              "  .colab-df-quickchart-complete:disabled:hover {\n",
              "    background-color: var(--disabled-bg-color);\n",
              "    fill: var(--disabled-fill-color);\n",
              "    box-shadow: none;\n",
              "  }\n",
              "\n",
              "  .colab-df-spinner {\n",
              "    border: 2px solid var(--fill-color);\n",
              "    border-color: transparent;\n",
              "    border-bottom-color: var(--fill-color);\n",
              "    animation:\n",
              "      spin 1s steps(1) infinite;\n",
              "  }\n",
              "\n",
              "  @keyframes spin {\n",
              "    0% {\n",
              "      border-color: transparent;\n",
              "      border-bottom-color: var(--fill-color);\n",
              "      border-left-color: var(--fill-color);\n",
              "    }\n",
              "    20% {\n",
              "      border-color: transparent;\n",
              "      border-left-color: var(--fill-color);\n",
              "      border-top-color: var(--fill-color);\n",
              "    }\n",
              "    30% {\n",
              "      border-color: transparent;\n",
              "      border-left-color: var(--fill-color);\n",
              "      border-top-color: var(--fill-color);\n",
              "      border-right-color: var(--fill-color);\n",
              "    }\n",
              "    40% {\n",
              "      border-color: transparent;\n",
              "      border-right-color: var(--fill-color);\n",
              "      border-top-color: var(--fill-color);\n",
              "    }\n",
              "    60% {\n",
              "      border-color: transparent;\n",
              "      border-right-color: var(--fill-color);\n",
              "    }\n",
              "    80% {\n",
              "      border-color: transparent;\n",
              "      border-right-color: var(--fill-color);\n",
              "      border-bottom-color: var(--fill-color);\n",
              "    }\n",
              "    90% {\n",
              "      border-color: transparent;\n",
              "      border-bottom-color: var(--fill-color);\n",
              "    }\n",
              "  }\n",
              "</style>\n",
              "\n",
              "  <script>\n",
              "    async function quickchart(key) {\n",
              "      const quickchartButtonEl =\n",
              "        document.querySelector('#' + key + ' button');\n",
              "      quickchartButtonEl.disabled = true;  // To prevent multiple clicks.\n",
              "      quickchartButtonEl.classList.add('colab-df-spinner');\n",
              "      try {\n",
              "        const charts = await google.colab.kernel.invokeFunction(\n",
              "            'suggestCharts', [key], {});\n",
              "      } catch (error) {\n",
              "        console.error('Error during call to suggestCharts:', error);\n",
              "      }\n",
              "      quickchartButtonEl.classList.remove('colab-df-spinner');\n",
              "      quickchartButtonEl.classList.add('colab-df-quickchart-complete');\n",
              "    }\n",
              "    (() => {\n",
              "      let quickchartButtonEl =\n",
              "        document.querySelector('#df-fe0d328b-f68e-4437-aa58-4286ac21fcfd button');\n",
              "      quickchartButtonEl.style.display =\n",
              "        google.colab.kernel.accessAllowed ? 'block' : 'none';\n",
              "    })();\n",
              "  </script>\n",
              "</div>\n",
              "\n",
              "  <div id=\"id_cbdc2cd7-d5a7-45e2-a8ef-f61693b84ac8\">\n",
              "    <style>\n",
              "      .colab-df-generate {\n",
              "        background-color: #E8F0FE;\n",
              "        border: none;\n",
              "        border-radius: 50%;\n",
              "        cursor: pointer;\n",
              "        display: none;\n",
              "        fill: #1967D2;\n",
              "        height: 32px;\n",
              "        padding: 0 0 0 0;\n",
              "        width: 32px;\n",
              "      }\n",
              "\n",
              "      .colab-df-generate:hover {\n",
              "        background-color: #E2EBFA;\n",
              "        box-shadow: 0px 1px 2px rgba(60, 64, 67, 0.3), 0px 1px 3px 1px rgba(60, 64, 67, 0.15);\n",
              "        fill: #174EA6;\n",
              "      }\n",
              "\n",
              "      [theme=dark] .colab-df-generate {\n",
              "        background-color: #3B4455;\n",
              "        fill: #D2E3FC;\n",
              "      }\n",
              "\n",
              "      [theme=dark] .colab-df-generate:hover {\n",
              "        background-color: #434B5C;\n",
              "        box-shadow: 0px 1px 3px 1px rgba(0, 0, 0, 0.15);\n",
              "        filter: drop-shadow(0px 1px 2px rgba(0, 0, 0, 0.3));\n",
              "        fill: #FFFFFF;\n",
              "      }\n",
              "    </style>\n",
              "    <button class=\"colab-df-generate\" onclick=\"generateWithVariable('token_freq')\"\n",
              "            title=\"Generate code using this dataframe.\"\n",
              "            style=\"display:none;\">\n",
              "\n",
              "  <svg xmlns=\"http://www.w3.org/2000/svg\" height=\"24px\"viewBox=\"0 0 24 24\"\n",
              "       width=\"24px\">\n",
              "    <path d=\"M7,19H8.4L18.45,9,17,7.55,7,17.6ZM5,21V16.75L18.45,3.32a2,2,0,0,1,2.83,0l1.4,1.43a1.91,1.91,0,0,1,.58,1.4,1.91,1.91,0,0,1-.58,1.4L9.25,21ZM18.45,9,17,7.55Zm-12,3A5.31,5.31,0,0,0,4.9,8.1,5.31,5.31,0,0,0,1,6.5,5.31,5.31,0,0,0,4.9,4.9,5.31,5.31,0,0,0,6.5,1,5.31,5.31,0,0,0,8.1,4.9,5.31,5.31,0,0,0,12,6.5,5.46,5.46,0,0,0,6.5,12Z\"/>\n",
              "  </svg>\n",
              "    </button>\n",
              "    <script>\n",
              "      (() => {\n",
              "      const buttonEl =\n",
              "        document.querySelector('#id_cbdc2cd7-d5a7-45e2-a8ef-f61693b84ac8 button.colab-df-generate');\n",
              "      buttonEl.style.display =\n",
              "        google.colab.kernel.accessAllowed ? 'block' : 'none';\n",
              "\n",
              "      buttonEl.onclick = () => {\n",
              "        google.colab.notebook.generateWithVariable('token_freq');\n",
              "      }\n",
              "      })();\n",
              "    </script>\n",
              "  </div>\n",
              "\n",
              "    </div>\n",
              "  </div>\n"
            ]
          },
          "metadata": {},
          "execution_count": 48
        }
      ]
    },
    {
      "cell_type": "markdown",
      "source": [
        "Summarizing news articles using TfIDF weights"
      ],
      "metadata": {
        "id": "UbMMyo8rIgLC"
      }
    },
    {
      "cell_type": "code",
      "source": [
        "article = news_df.sample(1).squeeze() #select 1 random article squeeze() to create  series\n",
        "article_id = article.name"
      ],
      "metadata": {
        "id": "GkscStxEIfdd"
      },
      "execution_count": null,
      "outputs": []
    },
    {
      "cell_type": "code",
      "source": [
        "news_df.sample(1).squeeze()"
      ],
      "metadata": {
        "colab": {
          "base_uri": "https://localhost:8080/"
        },
        "id": "WOWOP2A3InC9",
        "outputId": "8cf78d84-d608-429c-f297-e5493beb59cf"
      },
      "execution_count": null,
      "outputs": [
        {
          "output_type": "execute_result",
          "data": {
            "text/plain": [
              "topic                                                  sport\n",
              "heading                                Ireland 19-13 England\n",
              "body       Ireland consigned England to their third strai...\n",
              "Name: 1717, dtype: object"
            ]
          },
          "metadata": {},
          "execution_count": 55
        }
      ]
    },
    {
      "cell_type": "code",
      "source": [
        "#print topic, heading, and body\n",
        "print(article.topic.capitalize())\n",
        "print()\n",
        "print(article.heading)\n",
        "print()\n",
        "print(article.body)"
      ],
      "metadata": {
        "colab": {
          "base_uri": "https://localhost:8080/"
        },
        "id": "B0PEMW5cIaHb",
        "outputId": "a8b01794-8d31-4172-c389-a58c6226d06c"
      },
      "execution_count": null,
      "outputs": [
        {
          "output_type": "stream",
          "name": "stdout",
          "text": [
            "Entertainment\n",
            "\n",
            "Michael film signals 'retirement'\n",
            "\n",
            "Singer George Michael has said that a new film about his life is the start of a retirement from public view.  The pop star said it would be a much more \"behind the scenes affair\", and called his own genre of music \"dead\". \"I thought I should explain myself before I disappear,\" said Michael, who was at the Berlin film festival to launch the documentary. The film, A Different Story, chronicles Michael's life and career from the 1980s and his personal struggles. The 41-year-old chart-topper told reporters in the German capital that he wanted to \"move his career into a different form\", but added that he does not know what it is going to be yet.  \"I'm still going to be making music,\" he said, but added that he was \"not going to be around\". He hinted at discontent with the current state of music industry, and said: \"I don't really think that there is anyone in the modern pop business who I feel I want to spar with.\" Michael said that the film, directed by Southan Morris, would put his two decades of fame into context. \"It's almost as much for me as for my fans, in terms of trying to make sense of the last 22 years and bring it to a close in a proper way,\" he said. The documentary chronicles the highs and lows of his life in the public gaze, from his meteoric rise as one half of pop duo Wham! to his arrest for lewd conduct in a Los Angeles toilet in 1998. The film also deals with the loss of Michael's partner Anselmo Feleppa from an Aids-related condition in 1993. A Different Story, which is being shown at the Berlin Film Festival, has been screened by BBC One.\n"
          ]
        }
      ]
    },
    {
      "cell_type": "code",
      "source": [
        "#Select most relevant tokens by tfidf value\n",
        "article_tfidf = dtm_tfidf[article_id].todense().A1 #look at the article in the dtm and get the flattened matrix\n",
        "article_tokens = pd.Series(article_tfidf, index=tokens) #create the token series based on the article tfidf\n",
        "article_tokens.sort_values(ascending=False).head(10)"
      ],
      "metadata": {
        "colab": {
          "base_uri": "https://localhost:8080/"
        },
        "id": "JUxUuaPHI0_A",
        "outputId": "95163b6c-7035-4de0-841d-f8b07487f1bc"
      },
      "execution_count": null,
      "outputs": [
        {
          "output_type": "execute_result",
          "data": {
            "text/plain": [
              "film           0.303959\n",
              "michael        0.258002\n",
              "pop            0.218335\n",
              "chronicles     0.217410\n",
              "berlin         0.176567\n",
              "different      0.164704\n",
              "documentary    0.161972\n",
              "music          0.153571\n",
              "festival       0.153381\n",
              "life           0.151784\n",
              "dtype: float64"
            ]
          },
          "metadata": {},
          "execution_count": 66
        }
      ]
    },
    {
      "cell_type": "markdown",
      "source": [
        "![image.png](data:image/png;base64,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)"
      ],
      "metadata": {
        "id": "RuHCILd_JnqM"
      }
    },
    {
      "cell_type": "code",
      "source": [
        "article_tokens.sort_values(ascending=False).head(10) #here are the top term for the summary"
      ],
      "metadata": {
        "colab": {
          "base_uri": "https://localhost:8080/"
        },
        "id": "jDM2I6ptIz5g",
        "outputId": "e73d3f8b-2f76-4805-eedc-a2f02e09d8b0"
      },
      "execution_count": null,
      "outputs": [
        {
          "output_type": "execute_result",
          "data": {
            "text/plain": [
              "film           0.303959\n",
              "michael        0.258002\n",
              "pop            0.218335\n",
              "chronicles     0.217410\n",
              "berlin         0.176567\n",
              "different      0.164704\n",
              "documentary    0.161972\n",
              "music          0.153571\n",
              "festival       0.153381\n",
              "life           0.151784\n",
              "dtype: float64"
            ]
          },
          "metadata": {},
          "execution_count": 68
        }
      ]
    },
    {
      "cell_type": "code",
      "source": [
        "article.body #are they similar?"
      ],
      "metadata": {
        "colab": {
          "base_uri": "https://localhost:8080/",
          "height": 323
        },
        "id": "g1ceqlbpJSqT",
        "outputId": "a8d6278e-d6fd-4604-f4c1-f94732698432"
      },
      "execution_count": null,
      "outputs": [
        {
          "output_type": "execute_result",
          "data": {
            "text/plain": [
              "'Singer George Michael has said that a new film about his life is the start of a retirement from public view.  The pop star said it would be a much more \"behind the scenes affair\", and called his own genre of music \"dead\". \"I thought I should explain myself before I disappear,\" said Michael, who was at the Berlin film festival to launch the documentary. The film, A Different Story, chronicles Michael\\'s life and career from the 1980s and his personal struggles. The 41-year-old chart-topper told reporters in the German capital that he wanted to \"move his career into a different form\", but added that he does not know what it is going to be yet.  \"I\\'m still going to be making music,\" he said, but added that he was \"not going to be around\". He hinted at discontent with the current state of music industry, and said: \"I don\\'t really think that there is anyone in the modern pop business who I feel I want to spar with.\" Michael said that the film, directed by Southan Morris, would put his two decades of fame into context. \"It\\'s almost as much for me as for my fans, in terms of trying to make sense of the last 22 years and bring it to a close in a proper way,\" he said. The documentary chronicles the highs and lows of his life in the public gaze, from his meteoric rise as one half of pop duo Wham! to his arrest for lewd conduct in a Los Angeles toilet in 1998. The film also deals with the loss of Michael\\'s partner Anselmo Feleppa from an Aids-related condition in 1993. A Different Story, which is being shown at the Berlin Film Festival, has been screened by BBC One.'"
            ],
            "application/vnd.google.colaboratory.intrinsic+json": {
              "type": "string"
            }
          },
          "metadata": {},
          "execution_count": 69
        }
      ]
    },
    {
      "cell_type": "code",
      "source": [
        "#what if we randomly select the token in the text?\n",
        "pd.Series(article.body.split()).sample(10).tolist()\n"
      ],
      "metadata": {
        "colab": {
          "base_uri": "https://localhost:8080/"
        },
        "id": "sZsQ1S9pKRjF",
        "outputId": "f9c1c6f2-eb61-4691-974b-f96505bab370"
      },
      "execution_count": null,
      "outputs": [
        {
          "output_type": "execute_result",
          "data": {
            "text/plain": [
              "['would',\n",
              " 'two',\n",
              " 'a',\n",
              " 'highs',\n",
              " '\"not',\n",
              " 'form\",',\n",
              " 'BBC',\n",
              " 'for',\n",
              " 'really',\n",
              " 'public']"
            ]
          },
          "metadata": {},
          "execution_count": 70
        }
      ]
    },
    {
      "cell_type": "markdown",
      "source": [
        "# Classifying news articles with Naive Bayes"
      ],
      "metadata": {
        "id": "gTAayUfvKrl-"
      }
    },
    {
      "cell_type": "code",
      "source": [
        "from sklearn.model_selection import train_test_split\n",
        "from sklearn.naive_bayes import MultinomialNB\n",
        "from sklearn.metrics import accuracy_score, confusion_matrix, classification_report"
      ],
      "metadata": {
        "id": "FWh2UloZKuNU"
      },
      "execution_count": null,
      "outputs": []
    },
    {
      "cell_type": "code",
      "source": [
        "y = pd.factorize(news_df.topic)[0] #Encode the variable as categorical variable, 0='business', 1='entertainment', 2='politics', 3='sport', 4='tech'. [0] is the array [1] is the index\n",
        "X = news_df.body\n",
        "\n",
        "#train test split based on y\n",
        "X_train, X_test, y_train, y_test = train_test_split(X, y, random_state=1, stratify=y)"
      ],
      "metadata": {
        "id": "BNF1-gdXKwZN"
      },
      "execution_count": null,
      "outputs": []
    },
    {
      "cell_type": "code",
      "source": [
        "#create tfidf vectors\n",
        "tfidf = TfidfVectorizer(stop_words='english')\n",
        "X_train_dtm = tfidf.fit_transform(X_train)\n",
        "X_test_dtm = tfidf.transform(X_test)\n"
      ],
      "metadata": {
        "id": "Iw1bsVe-LRSE"
      },
      "execution_count": null,
      "outputs": []
    },
    {
      "cell_type": "code",
      "source": [
        "nb = MultinomialNB() #train naives bayes classifier\n",
        "nb.fit(X_train_dtm, y_train)\n",
        "y_pred_class = nb.predict(X_test_dtm)"
      ],
      "metadata": {
        "id": "KOYZyDZWLw-u"
      },
      "execution_count": null,
      "outputs": []
    },
    {
      "cell_type": "code",
      "source": [
        "#evaluate results\n",
        "accuracy_score(y_test, y_pred_class)\n"
      ],
      "metadata": {
        "colab": {
          "base_uri": "https://localhost:8080/"
        },
        "id": "nqYK7b0WL2R0",
        "outputId": "c4b75cf8-3c8e-415d-ce9f-be2670ce9a30"
      },
      "execution_count": null,
      "outputs": [
        {
          "output_type": "execute_result",
          "data": {
            "text/plain": [
              "0.9766606822262118"
            ]
          },
          "metadata": {},
          "execution_count": 87
        }
      ]
    },
    {
      "cell_type": "code",
      "source": [
        "print(classification_report(y_true=y_test, y_pred=y_pred_class))"
      ],
      "metadata": {
        "colab": {
          "base_uri": "https://localhost:8080/"
        },
        "id": "DNGZI2q3L9Fh",
        "outputId": "78a5649f-180f-479b-9db6-441824866d7a"
      },
      "execution_count": null,
      "outputs": [
        {
          "output_type": "stream",
          "name": "stdout",
          "text": [
            "              precision    recall  f1-score   support\n",
            "\n",
            "           0       0.98      0.97      0.98       128\n",
            "           1       0.99      0.97      0.98        97\n",
            "           2       0.94      0.99      0.96       104\n",
            "           3       0.99      1.00      1.00       128\n",
            "           4       0.98      0.95      0.96       100\n",
            "\n",
            "    accuracy                           0.98       557\n",
            "   macro avg       0.98      0.98      0.98       557\n",
            "weighted avg       0.98      0.98      0.98       557\n",
            "\n"
          ]
        }
      ]
    },
    {
      "cell_type": "code",
      "source": [
        "#look at the confusion matrix\n",
        "pd.DataFrame(confusion_matrix(y_true=y_test, y_pred=y_pred_class))\n"
      ],
      "metadata": {
        "colab": {
          "base_uri": "https://localhost:8080/",
          "height": 206
        },
        "id": "RFpsoY6nL3gg",
        "outputId": "794f9029-faaf-43f6-aec8-f93a210a275c"
      },
      "execution_count": null,
      "outputs": [
        {
          "output_type": "execute_result",
          "data": {
            "text/plain": [
              "     0   1    2    3   4\n",
              "0  124   0    3    0   1\n",
              "1    0  94    2    0   1\n",
              "2    1   0  103    0   0\n",
              "3    0   0    0  128   0\n",
              "4    1   1    2    1  95"
            ],
            "text/html": [
              "\n",
              "  <div id=\"df-e887333e-8e8e-4215-97b9-1e963f560000\" class=\"colab-df-container\">\n",
              "    <div>\n",
              "<style scoped>\n",
              "    .dataframe tbody tr th:only-of-type {\n",
              "        vertical-align: middle;\n",
              "    }\n",
              "\n",
              "    .dataframe tbody tr th {\n",
              "        vertical-align: top;\n",
              "    }\n",
              "\n",
              "    .dataframe thead th {\n",
              "        text-align: right;\n",
              "    }\n",
              "</style>\n",
              "<table border=\"1\" class=\"dataframe\">\n",
              "  <thead>\n",
              "    <tr style=\"text-align: right;\">\n",
              "      <th></th>\n",
              "      <th>0</th>\n",
              "      <th>1</th>\n",
              "      <th>2</th>\n",
              "      <th>3</th>\n",
              "      <th>4</th>\n",
              "    </tr>\n",
              "  </thead>\n",
              "  <tbody>\n",
              "    <tr>\n",
              "      <th>0</th>\n",
              "      <td>124</td>\n",
              "      <td>0</td>\n",
              "      <td>3</td>\n",
              "      <td>0</td>\n",
              "      <td>1</td>\n",
              "    </tr>\n",
              "    <tr>\n",
              "      <th>1</th>\n",
              "      <td>0</td>\n",
              "      <td>94</td>\n",
              "      <td>2</td>\n",
              "      <td>0</td>\n",
              "      <td>1</td>\n",
              "    </tr>\n",
              "    <tr>\n",
              "      <th>2</th>\n",
              "      <td>1</td>\n",
              "      <td>0</td>\n",
              "      <td>103</td>\n",
              "      <td>0</td>\n",
              "      <td>0</td>\n",
              "    </tr>\n",
              "    <tr>\n",
              "      <th>3</th>\n",
              "      <td>0</td>\n",
              "      <td>0</td>\n",
              "      <td>0</td>\n",
              "      <td>128</td>\n",
              "      <td>0</td>\n",
              "    </tr>\n",
              "    <tr>\n",
              "      <th>4</th>\n",
              "      <td>1</td>\n",
              "      <td>1</td>\n",
              "      <td>2</td>\n",
              "      <td>1</td>\n",
              "      <td>95</td>\n",
              "    </tr>\n",
              "  </tbody>\n",
              "</table>\n",
              "</div>\n",
              "    <div class=\"colab-df-buttons\">\n",
              "\n",
              "  <div class=\"colab-df-container\">\n",
              "    <button class=\"colab-df-convert\" onclick=\"convertToInteractive('df-e887333e-8e8e-4215-97b9-1e963f560000')\"\n",
              "            title=\"Convert this dataframe to an interactive table.\"\n",
              "            style=\"display:none;\">\n",
              "\n",
              "  <svg xmlns=\"http://www.w3.org/2000/svg\" height=\"24px\" viewBox=\"0 -960 960 960\">\n",
              "    <path d=\"M120-120v-720h720v720H120Zm60-500h600v-160H180v160Zm220 220h160v-160H400v160Zm0 220h160v-160H400v160ZM180-400h160v-160H180v160Zm440 0h160v-160H620v160ZM180-180h160v-160H180v160Zm440 0h160v-160H620v160Z\"/>\n",
              "  </svg>\n",
              "    </button>\n",
              "\n",
              "  <style>\n",
              "    .colab-df-container {\n",
              "      display:flex;\n",
              "      gap: 12px;\n",
              "    }\n",
              "\n",
              "    .colab-df-convert {\n",
              "      background-color: #E8F0FE;\n",
              "      border: none;\n",
              "      border-radius: 50%;\n",
              "      cursor: pointer;\n",
              "      display: none;\n",
              "      fill: #1967D2;\n",
              "      height: 32px;\n",
              "      padding: 0 0 0 0;\n",
              "      width: 32px;\n",
              "    }\n",
              "\n",
              "    .colab-df-convert:hover {\n",
              "      background-color: #E2EBFA;\n",
              "      box-shadow: 0px 1px 2px rgba(60, 64, 67, 0.3), 0px 1px 3px 1px rgba(60, 64, 67, 0.15);\n",
              "      fill: #174EA6;\n",
              "    }\n",
              "\n",
              "    .colab-df-buttons div {\n",
              "      margin-bottom: 4px;\n",
              "    }\n",
              "\n",
              "    [theme=dark] .colab-df-convert {\n",
              "      background-color: #3B4455;\n",
              "      fill: #D2E3FC;\n",
              "    }\n",
              "\n",
              "    [theme=dark] .colab-df-convert:hover {\n",
              "      background-color: #434B5C;\n",
              "      box-shadow: 0px 1px 3px 1px rgba(0, 0, 0, 0.15);\n",
              "      filter: drop-shadow(0px 1px 2px rgba(0, 0, 0, 0.3));\n",
              "      fill: #FFFFFF;\n",
              "    }\n",
              "  </style>\n",
              "\n",
              "    <script>\n",
              "      const buttonEl =\n",
              "        document.querySelector('#df-e887333e-8e8e-4215-97b9-1e963f560000 button.colab-df-convert');\n",
              "      buttonEl.style.display =\n",
              "        google.colab.kernel.accessAllowed ? 'block' : 'none';\n",
              "\n",
              "      async function convertToInteractive(key) {\n",
              "        const element = document.querySelector('#df-e887333e-8e8e-4215-97b9-1e963f560000');\n",
              "        const dataTable =\n",
              "          await google.colab.kernel.invokeFunction('convertToInteractive',\n",
              "                                                    [key], {});\n",
              "        if (!dataTable) return;\n",
              "\n",
              "        const docLinkHtml = 'Like what you see? Visit the ' +\n",
              "          '<a target=\"_blank\" href=https://colab.research.google.com/notebooks/data_table.ipynb>data table notebook</a>'\n",
              "          + ' to learn more about interactive tables.';\n",
              "        element.innerHTML = '';\n",
              "        dataTable['output_type'] = 'display_data';\n",
              "        await google.colab.output.renderOutput(dataTable, element);\n",
              "        const docLink = document.createElement('div');\n",
              "        docLink.innerHTML = docLinkHtml;\n",
              "        element.appendChild(docLink);\n",
              "      }\n",
              "    </script>\n",
              "  </div>\n",
              "\n",
              "\n",
              "<div id=\"df-ae9cb007-c6bc-485d-b149-373cb7454350\">\n",
              "  <button class=\"colab-df-quickchart\" onclick=\"quickchart('df-ae9cb007-c6bc-485d-b149-373cb7454350')\"\n",
              "            title=\"Suggest charts\"\n",
              "            style=\"display:none;\">\n",
              "\n",
              "<svg xmlns=\"http://www.w3.org/2000/svg\" height=\"24px\"viewBox=\"0 0 24 24\"\n",
              "     width=\"24px\">\n",
              "    <g>\n",
              "        <path d=\"M19 3H5c-1.1 0-2 .9-2 2v14c0 1.1.9 2 2 2h14c1.1 0 2-.9 2-2V5c0-1.1-.9-2-2-2zM9 17H7v-7h2v7zm4 0h-2V7h2v10zm4 0h-2v-4h2v4z\"/>\n",
              "    </g>\n",
              "</svg>\n",
              "  </button>\n",
              "\n",
              "<style>\n",
              "  .colab-df-quickchart {\n",
              "      --bg-color: #E8F0FE;\n",
              "      --fill-color: #1967D2;\n",
              "      --hover-bg-color: #E2EBFA;\n",
              "      --hover-fill-color: #174EA6;\n",
              "      --disabled-fill-color: #AAA;\n",
              "      --disabled-bg-color: #DDD;\n",
              "  }\n",
              "\n",
              "  [theme=dark] .colab-df-quickchart {\n",
              "      --bg-color: #3B4455;\n",
              "      --fill-color: #D2E3FC;\n",
              "      --hover-bg-color: #434B5C;\n",
              "      --hover-fill-color: #FFFFFF;\n",
              "      --disabled-bg-color: #3B4455;\n",
              "      --disabled-fill-color: #666;\n",
              "  }\n",
              "\n",
              "  .colab-df-quickchart {\n",
              "    background-color: var(--bg-color);\n",
              "    border: none;\n",
              "    border-radius: 50%;\n",
              "    cursor: pointer;\n",
              "    display: none;\n",
              "    fill: var(--fill-color);\n",
              "    height: 32px;\n",
              "    padding: 0;\n",
              "    width: 32px;\n",
              "  }\n",
              "\n",
              "  .colab-df-quickchart:hover {\n",
              "    background-color: var(--hover-bg-color);\n",
              "    box-shadow: 0 1px 2px rgba(60, 64, 67, 0.3), 0 1px 3px 1px rgba(60, 64, 67, 0.15);\n",
              "    fill: var(--button-hover-fill-color);\n",
              "  }\n",
              "\n",
              "  .colab-df-quickchart-complete:disabled,\n",
              "  .colab-df-quickchart-complete:disabled:hover {\n",
              "    background-color: var(--disabled-bg-color);\n",
              "    fill: var(--disabled-fill-color);\n",
              "    box-shadow: none;\n",
              "  }\n",
              "\n",
              "  .colab-df-spinner {\n",
              "    border: 2px solid var(--fill-color);\n",
              "    border-color: transparent;\n",
              "    border-bottom-color: var(--fill-color);\n",
              "    animation:\n",
              "      spin 1s steps(1) infinite;\n",
              "  }\n",
              "\n",
              "  @keyframes spin {\n",
              "    0% {\n",
              "      border-color: transparent;\n",
              "      border-bottom-color: var(--fill-color);\n",
              "      border-left-color: var(--fill-color);\n",
              "    }\n",
              "    20% {\n",
              "      border-color: transparent;\n",
              "      border-left-color: var(--fill-color);\n",
              "      border-top-color: var(--fill-color);\n",
              "    }\n",
              "    30% {\n",
              "      border-color: transparent;\n",
              "      border-left-color: var(--fill-color);\n",
              "      border-top-color: var(--fill-color);\n",
              "      border-right-color: var(--fill-color);\n",
              "    }\n",
              "    40% {\n",
              "      border-color: transparent;\n",
              "      border-right-color: var(--fill-color);\n",
              "      border-top-color: var(--fill-color);\n",
              "    }\n",
              "    60% {\n",
              "      border-color: transparent;\n",
              "      border-right-color: var(--fill-color);\n",
              "    }\n",
              "    80% {\n",
              "      border-color: transparent;\n",
              "      border-right-color: var(--fill-color);\n",
              "      border-bottom-color: var(--fill-color);\n",
              "    }\n",
              "    90% {\n",
              "      border-color: transparent;\n",
              "      border-bottom-color: var(--fill-color);\n",
              "    }\n",
              "  }\n",
              "</style>\n",
              "\n",
              "  <script>\n",
              "    async function quickchart(key) {\n",
              "      const quickchartButtonEl =\n",
              "        document.querySelector('#' + key + ' button');\n",
              "      quickchartButtonEl.disabled = true;  // To prevent multiple clicks.\n",
              "      quickchartButtonEl.classList.add('colab-df-spinner');\n",
              "      try {\n",
              "        const charts = await google.colab.kernel.invokeFunction(\n",
              "            'suggestCharts', [key], {});\n",
              "      } catch (error) {\n",
              "        console.error('Error during call to suggestCharts:', error);\n",
              "      }\n",
              "      quickchartButtonEl.classList.remove('colab-df-spinner');\n",
              "      quickchartButtonEl.classList.add('colab-df-quickchart-complete');\n",
              "    }\n",
              "    (() => {\n",
              "      let quickchartButtonEl =\n",
              "        document.querySelector('#df-ae9cb007-c6bc-485d-b149-373cb7454350 button');\n",
              "      quickchartButtonEl.style.display =\n",
              "        google.colab.kernel.accessAllowed ? 'block' : 'none';\n",
              "    })();\n",
              "  </script>\n",
              "</div>\n",
              "\n",
              "    </div>\n",
              "  </div>\n"
            ]
          },
          "metadata": {},
          "execution_count": 93
        }
      ]
    },
    {
      "cell_type": "code",
      "source": [
        "#look at the confusion matrix with class names\n",
        "pd.DataFrame(confusion_matrix(y_true=y_test, y_pred=y_pred_class), index=pd.factorize(news_df.topic)[1],columns = pd.factorize(news_df.topic)[1] )"
      ],
      "metadata": {
        "colab": {
          "base_uri": "https://localhost:8080/",
          "height": 206
        },
        "id": "mY8giJdUMHCx",
        "outputId": "283a99f6-d161-49e4-8285-531b27ed4b68"
      },
      "execution_count": null,
      "outputs": [
        {
          "output_type": "execute_result",
          "data": {
            "text/plain": [
              "               business  entertainment  politics  sport  tech\n",
              "business            124              0         3      0     1\n",
              "entertainment         0             94         2      0     1\n",
              "politics              1              0       103      0     0\n",
              "sport                 0              0         0    128     0\n",
              "tech                  1              1         2      1    95"
            ],
            "text/html": [
              "\n",
              "  <div id=\"df-723ac6e4-fb07-473b-bc13-26690e52beb6\" class=\"colab-df-container\">\n",
              "    <div>\n",
              "<style scoped>\n",
              "    .dataframe tbody tr th:only-of-type {\n",
              "        vertical-align: middle;\n",
              "    }\n",
              "\n",
              "    .dataframe tbody tr th {\n",
              "        vertical-align: top;\n",
              "    }\n",
              "\n",
              "    .dataframe thead th {\n",
              "        text-align: right;\n",
              "    }\n",
              "</style>\n",
              "<table border=\"1\" class=\"dataframe\">\n",
              "  <thead>\n",
              "    <tr style=\"text-align: right;\">\n",
              "      <th></th>\n",
              "      <th>business</th>\n",
              "      <th>entertainment</th>\n",
              "      <th>politics</th>\n",
              "      <th>sport</th>\n",
              "      <th>tech</th>\n",
              "    </tr>\n",
              "  </thead>\n",
              "  <tbody>\n",
              "    <tr>\n",
              "      <th>business</th>\n",
              "      <td>124</td>\n",
              "      <td>0</td>\n",
              "      <td>3</td>\n",
              "      <td>0</td>\n",
              "      <td>1</td>\n",
              "    </tr>\n",
              "    <tr>\n",
              "      <th>entertainment</th>\n",
              "      <td>0</td>\n",
              "      <td>94</td>\n",
              "      <td>2</td>\n",
              "      <td>0</td>\n",
              "      <td>1</td>\n",
              "    </tr>\n",
              "    <tr>\n",
              "      <th>politics</th>\n",
              "      <td>1</td>\n",
              "      <td>0</td>\n",
              "      <td>103</td>\n",
              "      <td>0</td>\n",
              "      <td>0</td>\n",
              "    </tr>\n",
              "    <tr>\n",
              "      <th>sport</th>\n",
              "      <td>0</td>\n",
              "      <td>0</td>\n",
              "      <td>0</td>\n",
              "      <td>128</td>\n",
              "      <td>0</td>\n",
              "    </tr>\n",
              "    <tr>\n",
              "      <th>tech</th>\n",
              "      <td>1</td>\n",
              "      <td>1</td>\n",
              "      <td>2</td>\n",
              "      <td>1</td>\n",
              "      <td>95</td>\n",
              "    </tr>\n",
              "  </tbody>\n",
              "</table>\n",
              "</div>\n",
              "    <div class=\"colab-df-buttons\">\n",
              "\n",
              "  <div class=\"colab-df-container\">\n",
              "    <button class=\"colab-df-convert\" onclick=\"convertToInteractive('df-723ac6e4-fb07-473b-bc13-26690e52beb6')\"\n",
              "            title=\"Convert this dataframe to an interactive table.\"\n",
              "            style=\"display:none;\">\n",
              "\n",
              "  <svg xmlns=\"http://www.w3.org/2000/svg\" height=\"24px\" viewBox=\"0 -960 960 960\">\n",
              "    <path d=\"M120-120v-720h720v720H120Zm60-500h600v-160H180v160Zm220 220h160v-160H400v160Zm0 220h160v-160H400v160ZM180-400h160v-160H180v160Zm440 0h160v-160H620v160ZM180-180h160v-160H180v160Zm440 0h160v-160H620v160Z\"/>\n",
              "  </svg>\n",
              "    </button>\n",
              "\n",
              "  <style>\n",
              "    .colab-df-container {\n",
              "      display:flex;\n",
              "      gap: 12px;\n",
              "    }\n",
              "\n",
              "    .colab-df-convert {\n",
              "      background-color: #E8F0FE;\n",
              "      border: none;\n",
              "      border-radius: 50%;\n",
              "      cursor: pointer;\n",
              "      display: none;\n",
              "      fill: #1967D2;\n",
              "      height: 32px;\n",
              "      padding: 0 0 0 0;\n",
              "      width: 32px;\n",
              "    }\n",
              "\n",
              "    .colab-df-convert:hover {\n",
              "      background-color: #E2EBFA;\n",
              "      box-shadow: 0px 1px 2px rgba(60, 64, 67, 0.3), 0px 1px 3px 1px rgba(60, 64, 67, 0.15);\n",
              "      fill: #174EA6;\n",
              "    }\n",
              "\n",
              "    .colab-df-buttons div {\n",
              "      margin-bottom: 4px;\n",
              "    }\n",
              "\n",
              "    [theme=dark] .colab-df-convert {\n",
              "      background-color: #3B4455;\n",
              "      fill: #D2E3FC;\n",
              "    }\n",
              "\n",
              "    [theme=dark] .colab-df-convert:hover {\n",
              "      background-color: #434B5C;\n",
              "      box-shadow: 0px 1px 3px 1px rgba(0, 0, 0, 0.15);\n",
              "      filter: drop-shadow(0px 1px 2px rgba(0, 0, 0, 0.3));\n",
              "      fill: #FFFFFF;\n",
              "    }\n",
              "  </style>\n",
              "\n",
              "    <script>\n",
              "      const buttonEl =\n",
              "        document.querySelector('#df-723ac6e4-fb07-473b-bc13-26690e52beb6 button.colab-df-convert');\n",
              "      buttonEl.style.display =\n",
              "        google.colab.kernel.accessAllowed ? 'block' : 'none';\n",
              "\n",
              "      async function convertToInteractive(key) {\n",
              "        const element = document.querySelector('#df-723ac6e4-fb07-473b-bc13-26690e52beb6');\n",
              "        const dataTable =\n",
              "          await google.colab.kernel.invokeFunction('convertToInteractive',\n",
              "                                                    [key], {});\n",
              "        if (!dataTable) return;\n",
              "\n",
              "        const docLinkHtml = 'Like what you see? Visit the ' +\n",
              "          '<a target=\"_blank\" href=https://colab.research.google.com/notebooks/data_table.ipynb>data table notebook</a>'\n",
              "          + ' to learn more about interactive tables.';\n",
              "        element.innerHTML = '';\n",
              "        dataTable['output_type'] = 'display_data';\n",
              "        await google.colab.output.renderOutput(dataTable, element);\n",
              "        const docLink = document.createElement('div');\n",
              "        docLink.innerHTML = docLinkHtml;\n",
              "        element.appendChild(docLink);\n",
              "      }\n",
              "    </script>\n",
              "  </div>\n",
              "\n",
              "\n",
              "<div id=\"df-ca170285-da16-4f23-87c3-9ea77fb792d9\">\n",
              "  <button class=\"colab-df-quickchart\" onclick=\"quickchart('df-ca170285-da16-4f23-87c3-9ea77fb792d9')\"\n",
              "            title=\"Suggest charts\"\n",
              "            style=\"display:none;\">\n",
              "\n",
              "<svg xmlns=\"http://www.w3.org/2000/svg\" height=\"24px\"viewBox=\"0 0 24 24\"\n",
              "     width=\"24px\">\n",
              "    <g>\n",
              "        <path d=\"M19 3H5c-1.1 0-2 .9-2 2v14c0 1.1.9 2 2 2h14c1.1 0 2-.9 2-2V5c0-1.1-.9-2-2-2zM9 17H7v-7h2v7zm4 0h-2V7h2v10zm4 0h-2v-4h2v4z\"/>\n",
              "    </g>\n",
              "</svg>\n",
              "  </button>\n",
              "\n",
              "<style>\n",
              "  .colab-df-quickchart {\n",
              "      --bg-color: #E8F0FE;\n",
              "      --fill-color: #1967D2;\n",
              "      --hover-bg-color: #E2EBFA;\n",
              "      --hover-fill-color: #174EA6;\n",
              "      --disabled-fill-color: #AAA;\n",
              "      --disabled-bg-color: #DDD;\n",
              "  }\n",
              "\n",
              "  [theme=dark] .colab-df-quickchart {\n",
              "      --bg-color: #3B4455;\n",
              "      --fill-color: #D2E3FC;\n",
              "      --hover-bg-color: #434B5C;\n",
              "      --hover-fill-color: #FFFFFF;\n",
              "      --disabled-bg-color: #3B4455;\n",
              "      --disabled-fill-color: #666;\n",
              "  }\n",
              "\n",
              "  .colab-df-quickchart {\n",
              "    background-color: var(--bg-color);\n",
              "    border: none;\n",
              "    border-radius: 50%;\n",
              "    cursor: pointer;\n",
              "    display: none;\n",
              "    fill: var(--fill-color);\n",
              "    height: 32px;\n",
              "    padding: 0;\n",
              "    width: 32px;\n",
              "  }\n",
              "\n",
              "  .colab-df-quickchart:hover {\n",
              "    background-color: var(--hover-bg-color);\n",
              "    box-shadow: 0 1px 2px rgba(60, 64, 67, 0.3), 0 1px 3px 1px rgba(60, 64, 67, 0.15);\n",
              "    fill: var(--button-hover-fill-color);\n",
              "  }\n",
              "\n",
              "  .colab-df-quickchart-complete:disabled,\n",
              "  .colab-df-quickchart-complete:disabled:hover {\n",
              "    background-color: var(--disabled-bg-color);\n",
              "    fill: var(--disabled-fill-color);\n",
              "    box-shadow: none;\n",
              "  }\n",
              "\n",
              "  .colab-df-spinner {\n",
              "    border: 2px solid var(--fill-color);\n",
              "    border-color: transparent;\n",
              "    border-bottom-color: var(--fill-color);\n",
              "    animation:\n",
              "      spin 1s steps(1) infinite;\n",
              "  }\n",
              "\n",
              "  @keyframes spin {\n",
              "    0% {\n",
              "      border-color: transparent;\n",
              "      border-bottom-color: var(--fill-color);\n",
              "      border-left-color: var(--fill-color);\n",
              "    }\n",
              "    20% {\n",
              "      border-color: transparent;\n",
              "      border-left-color: var(--fill-color);\n",
              "      border-top-color: var(--fill-color);\n",
              "    }\n",
              "    30% {\n",
              "      border-color: transparent;\n",
              "      border-left-color: var(--fill-color);\n",
              "      border-top-color: var(--fill-color);\n",
              "      border-right-color: var(--fill-color);\n",
              "    }\n",
              "    40% {\n",
              "      border-color: transparent;\n",
              "      border-right-color: var(--fill-color);\n",
              "      border-top-color: var(--fill-color);\n",
              "    }\n",
              "    60% {\n",
              "      border-color: transparent;\n",
              "      border-right-color: var(--fill-color);\n",
              "    }\n",
              "    80% {\n",
              "      border-color: transparent;\n",
              "      border-right-color: var(--fill-color);\n",
              "      border-bottom-color: var(--fill-color);\n",
              "    }\n",
              "    90% {\n",
              "      border-color: transparent;\n",
              "      border-bottom-color: var(--fill-color);\n",
              "    }\n",
              "  }\n",
              "</style>\n",
              "\n",
              "  <script>\n",
              "    async function quickchart(key) {\n",
              "      const quickchartButtonEl =\n",
              "        document.querySelector('#' + key + ' button');\n",
              "      quickchartButtonEl.disabled = true;  // To prevent multiple clicks.\n",
              "      quickchartButtonEl.classList.add('colab-df-spinner');\n",
              "      try {\n",
              "        const charts = await google.colab.kernel.invokeFunction(\n",
              "            'suggestCharts', [key], {});\n",
              "      } catch (error) {\n",
              "        console.error('Error during call to suggestCharts:', error);\n",
              "      }\n",
              "      quickchartButtonEl.classList.remove('colab-df-spinner');\n",
              "      quickchartButtonEl.classList.add('colab-df-quickchart-complete');\n",
              "    }\n",
              "    (() => {\n",
              "      let quickchartButtonEl =\n",
              "        document.querySelector('#df-ca170285-da16-4f23-87c3-9ea77fb792d9 button');\n",
              "      quickchartButtonEl.style.display =\n",
              "        google.colab.kernel.accessAllowed ? 'block' : 'none';\n",
              "    })();\n",
              "  </script>\n",
              "</div>\n",
              "\n",
              "    </div>\n",
              "  </div>\n"
            ]
          },
          "metadata": {},
          "execution_count": 96
        }
      ]
    },
    {
      "cell_type": "code",
      "source": [],
      "metadata": {
        "id": "Vxoy73deMrHe"
      },
      "execution_count": null,
      "outputs": []
    }
  ]
}