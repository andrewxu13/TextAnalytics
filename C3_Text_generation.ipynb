{
  "nbformat": 4,
  "nbformat_minor": 0,
  "metadata": {
    "colab": {
      "provenance": [],
      "include_colab_link": true
    },
    "kernelspec": {
      "name": "python3",
      "display_name": "Python 3"
    },
    "language_info": {
      "name": "python"
    }
  },
  "cells": [
    {
      "cell_type": "markdown",
      "metadata": {
        "id": "view-in-github",
        "colab_type": "text"
      },
      "source": [
        "<a href=\"https://colab.research.google.com/github/andrewxu13/TextAnalytics/blob/main/C3_Text_generation.ipynb\" target=\"_parent\"><img src=\"https://colab.research.google.com/assets/colab-badge.svg\" alt=\"Open In Colab\"/></a>"
      ]
    },
    {
      "cell_type": "markdown",
      "source": [
        "# Data Acquisition!\n",
        "\n",
        "Here we load the data into Python.\n"
      ],
      "metadata": {
        "id": "zgnsgh8v7RzA"
      }
    },
    {
      "cell_type": "code",
      "execution_count": null,
      "metadata": {
        "colab": {
          "base_uri": "https://localhost:8080/"
        },
        "id": "mmyywNHx51U8",
        "outputId": "0a422c36-a4d4-4e89-91bf-3e44a4714168"
      },
      "outputs": [
        {
          "output_type": "stream",
          "name": "stdout",
          "text": [
            "I like poptars and 42 and spam. Will I get spam and poptarts for the holidays? I like spam poptarts!\n",
            "\n"
          ]
        }
      ],
      "source": [
        "f = open( \"/content/a.txt\" )\n",
        "text = f.read()\n",
        "f.close()\n",
        "\n",
        "print(text)\n",
        "print()\n"
      ]
    },
    {
      "cell_type": "markdown",
      "source": [
        "# Preprocessing\n",
        "\n",
        "Here we split all the words from the sentence, and then create a dict that counts how the frequency for each word."
      ],
      "metadata": {
        "id": "FnctziwN7c-Q"
      }
    },
    {
      "cell_type": "code",
      "source": [
        "LoW = text.split()     #LoW = List of words\n",
        "\n",
        "\n",
        "d = {}\n",
        "\n",
        "for w in LoW:\n",
        "\n",
        "  if w not in d:\n",
        "      d[w] = 1\n",
        "\n",
        "  else:\n",
        "      d[w] += 1\n",
        "print(LoW)\n",
        "print(\"There are\", len(LoW), \"words.\")\n",
        "print()\n",
        "print(d)\n",
        "print(\"There are\", len(d), \"distinct words.\\n\")"
      ],
      "metadata": {
        "colab": {
          "base_uri": "https://localhost:8080/"
        },
        "id": "HgVna-HF6-ci",
        "outputId": "02150c49-4083-4358-c5d2-0f078fd0cb6b"
      },
      "execution_count": null,
      "outputs": [
        {
          "output_type": "stream",
          "name": "stdout",
          "text": [
            "['I', 'like', 'poptars', 'and', '42', 'and', 'spam.', 'Will', 'I', 'get', 'spam', 'and', 'poptarts', 'for', 'the', 'holidays?', 'I', 'like', 'spam', 'poptarts!']\n",
            "There are 20 words.\n",
            "\n",
            "{'I': 3, 'like': 2, 'poptars': 1, 'and': 3, '42': 1, 'spam.': 1, 'Will': 1, 'get': 1, 'spam': 2, 'poptarts': 1, 'for': 1, 'the': 1, 'holidays?': 1, 'poptarts!': 1}\n",
            "There are 14 distinct words.\n",
            "\n"
          ]
        }
      ]
    },
    {
      "cell_type": "code",
      "source": [
        "text.split()"
      ],
      "metadata": {
        "colab": {
          "base_uri": "https://localhost:8080/"
        },
        "id": "czfDf9q0M5xl",
        "outputId": "63a3ce37-c329-4e0a-d245-0d4223218e73"
      },
      "execution_count": null,
      "outputs": [
        {
          "output_type": "execute_result",
          "data": {
            "text/plain": [
              "['I',\n",
              " 'like',\n",
              " 'poptars',\n",
              " 'and',\n",
              " '42',\n",
              " 'and',\n",
              " 'spam.',\n",
              " 'Will',\n",
              " 'I',\n",
              " 'get',\n",
              " 'spam',\n",
              " 'and',\n",
              " 'poptarts',\n",
              " 'for',\n",
              " 'the',\n",
              " 'holidays?',\n",
              " 'I',\n",
              " 'like',\n",
              " 'spam',\n",
              " 'poptarts!']"
            ]
          },
          "metadata": {},
          "execution_count": 2
        }
      ]
    },
    {
      "cell_type": "markdown",
      "source": [
        "# Feature Engineering\n",
        "\n",
        "In here, we create a 3-vector feature for each word."
      ],
      "metadata": {
        "id": "BSs72sZH71-V"
      }
    },
    {
      "cell_type": "code",
      "source": [
        "\"\"\"\n",
        "1) start with an empty dictionary, for each (current) word in the list, except the last one. Add the next word to the current word's list!\n",
        "\n",
        "\"\"\"\n",
        "#prepping the dictionary for the job. 1- empty dict 2- split all text 3- account for start of paragraph/line\n",
        "fileDict = {}\n",
        "text = text.split()\n",
        "fileDict['$'] = []\n",
        "\n",
        "for i in range(len(text)): #first, create the library\n",
        "  if text[i] not in fileDict:\n",
        "      #fileDict.setdefault(text[i].strip('.!?'),[]) #create a key with a default value of a list\n",
        "      fileDict.setdefault(text[i].strip('.!?'),[])\n",
        "for i in range(len(text)-1): #second, create the list of the library\n",
        "  #word = text[i].strip('.!?')\n",
        "  word = text[i]\n",
        "  if i ==0:\n",
        "    fileDict['$'].append(text[i])\n",
        "  if word in fileDict:\n",
        "    fileDict[word].append(text[i+1])\n",
        "  if text[i][-1] == '.' or text[i][-1] == '?' or text[i][-1] == '!':\n",
        "    fileDict['$'].append(text[i+1])\n",
        "\n",
        "for i in list(fileDict.keys()): #delete the key with empty list\n",
        "  if fileDict[i]==[]:\n",
        "      del fileDict[i]"
      ],
      "metadata": {
        "id": "K9Zoxf9Q7LOC"
      },
      "execution_count": null,
      "outputs": []
    },
    {
      "cell_type": "code",
      "source": [
        "fileDict"
      ],
      "metadata": {
        "colab": {
          "base_uri": "https://localhost:8080/"
        },
        "id": "q6YRN2TD9trT",
        "outputId": "6675bae5-0f4f-46fd-b828-f95ba8dcf5f6"
      },
      "execution_count": null,
      "outputs": [
        {
          "output_type": "execute_result",
          "data": {
            "text/plain": [
              "{'$': ['I', 'Will', 'I'],\n",
              " 'I': ['like', 'get', 'like'],\n",
              " 'like': ['poptars', 'spam'],\n",
              " 'poptars': ['and'],\n",
              " 'and': ['42', 'spam.', 'poptarts'],\n",
              " '42': ['and'],\n",
              " 'spam': ['and', 'poptarts!'],\n",
              " 'Will': ['I'],\n",
              " 'get': ['spam'],\n",
              " 'poptarts': ['for'],\n",
              " 'for': ['the'],\n",
              " 'the': ['holidays?']}"
            ]
          },
          "metadata": {},
          "execution_count": 5
        }
      ]
    },
    {
      "cell_type": "markdown",
      "source": [
        "Let's also wrap this into a function so with any file, we can create the dictionary for it."
      ],
      "metadata": {
        "id": "eoXYphW3-jOH"
      }
    },
    {
      "cell_type": "markdown",
      "source": [
        "# Modeling\n",
        "\n",
        "Based on the Markov chain, we will generate a text based on the feature engineered on fileDict."
      ],
      "metadata": {
        "id": "wpSlOT24-FvH"
      }
    },
    {
      "cell_type": "code",
      "source": [],
      "metadata": {
        "id": "vS83KKcc_JRG"
      },
      "execution_count": null,
      "outputs": []
    },
    {
      "cell_type": "code",
      "source": [
        "import random #use this dictionary to randomize which word to choose\n",
        "results = \"\"\n",
        "start = random.choice(list(fileDict.keys()))\n",
        "results += start\n",
        "next = fileDict[start]\n",
        "\n",
        "\n",
        "for i in range(20): #test with generating 20 words\n",
        "  word = random.choice(next)\n",
        "  results = results + \" \" + word\n",
        "  if word[-1] in '.!?':\n",
        "    next = fileDict['$']\n",
        "  else:\n",
        "    next = fileDict[word]"
      ],
      "metadata": {
        "id": "7j5HcmKz_B0P"
      },
      "execution_count": null,
      "outputs": []
    },
    {
      "cell_type": "code",
      "source": [
        "results #voila! here is the results"
      ],
      "metadata": {
        "colab": {
          "base_uri": "https://localhost:8080/",
          "height": 35
        },
        "id": "RSgljduL_XGz",
        "outputId": "aac49e97-42f0-4675-c521-370559f92e4d"
      },
      "execution_count": null,
      "outputs": [
        {
          "output_type": "execute_result",
          "data": {
            "text/plain": [
              "'poptars and 42 and 42 and spam. I get spam and poptarts for the holidays? I like poptars and spam. I'"
            ],
            "application/vnd.google.colaboratory.intrinsic+json": {
              "type": "string"
            }
          },
          "metadata": {},
          "execution_count": 21
        }
      ]
    },
    {
      "cell_type": "markdown",
      "source": [
        "# Evaluation.\n",
        "Here we look at the results and do a \"visual\" evaluation. what do you think?"
      ],
      "metadata": {
        "id": "kkyxYZQB_cwa"
      }
    },
    {
      "cell_type": "code",
      "source": [
        "results #voila! here is the results"
      ],
      "metadata": {
        "colab": {
          "base_uri": "https://localhost:8080/",
          "height": 35
        },
        "id": "XzMLlAl5_bsl",
        "outputId": "276ee335-5ca7-4ca5-921e-1bdcbe5a15ae"
      },
      "execution_count": null,
      "outputs": [
        {
          "output_type": "execute_result",
          "data": {
            "text/plain": [
              "'get spam and 42 and poptarts for the holidays? I get spam poptarts! Will I like spam poptarts! Will I like'"
            ],
            "application/vnd.google.colaboratory.intrinsic+json": {
              "type": "string"
            }
          },
          "metadata": {},
          "execution_count": 15
        }
      ]
    },
    {
      "cell_type": "markdown",
      "source": [
        "# Extra\n",
        "Let's wrap everything in functions for reusability"
      ],
      "metadata": {
        "id": "QiBdM0yU_mr1"
      }
    },
    {
      "cell_type": "code",
      "source": [
        "def createDictionary( filename ):\n",
        "   \"\"\"\n",
        "\n",
        " :param filename: string, the name of a text file containing some sample text\n",
        " :return:  should return a dictionary whose keys are words encountered in the text file and whose entries are a list of words that may legally follow the key word\n",
        "   \"\"\"\n",
        "\n",
        "   file = open(filename, \"r\")\n",
        "   text = file.read()  #read the text file and transform into text\n",
        "   file.close()\n",
        "\n",
        "#prepping the dictionary for the job. 1- empty dict 2- split all text 3- account for start of paragraph/line\n",
        "   fileDict = {}\n",
        "   text = text.split()\n",
        "   fileDict['$'] = []\n",
        "\n",
        "   for i in range(len(text)): #first, create the library\n",
        "       if text[i] not in fileDict:\n",
        "           #fileDict.setdefault(text[i].strip('.!?'),[]) #create a key with a default value of a list\n",
        "           fileDict.setdefault(text[i].strip('.!?'),[])\n",
        "   for i in range(len(text)-1): #second, create the list of the library\n",
        "       #word = text[i].strip('.!?')\n",
        "       word = text[i]\n",
        "       if i ==0:\n",
        "         fileDict['$'].append(text[i])\n",
        "       if word in fileDict:\n",
        "          fileDict[word].append(text[i+1])\n",
        "       if text[i][-1] == '.' or text[i][-1] == '?' or text[i][-1] == '!':\n",
        "          fileDict['$'].append(text[i+1])\n",
        "\n",
        "   for i in list(fileDict.keys()): #delete the ley with empty list\n",
        "       if fileDict[i]==[]:\n",
        "           del fileDict[i]\n",
        "\n",
        "   return fileDict"
      ],
      "metadata": {
        "id": "DjQK8rF_-h_H"
      },
      "execution_count": null,
      "outputs": []
    },
    {
      "cell_type": "code",
      "source": [
        "def generateText(dict, nw):\n",
        "    \"\"\"\n",
        "\n",
        "    :param dict: dictionary of word transitions, created by createDictionary\n",
        "    :param nw: positive interger, aka number of words\n",
        "    :return: string\n",
        "    \"\"\"\n",
        "    fileDict = {}\n",
        "    fileDict = createDictionary( dict )\n",
        "    results = \"\"\n",
        "    start = random.choice(list(fileDict.keys()))\n",
        "    results += start\n",
        "    next = fileDict[start]\n",
        "    for i in range(nw):\n",
        "       word = random.choice(next)\n",
        "       results = results + \" \" + word\n",
        "       if word[-1] in '.!?':\n",
        "          next = fileDict['$']\n",
        "       else:\n",
        "          next = fileDict[word]\n",
        "\n",
        "    return results\n"
      ],
      "metadata": {
        "id": "vdPb78Kg9bg-"
      },
      "execution_count": null,
      "outputs": []
    },
    {
      "cell_type": "code",
      "source": [
        "#test it out\n",
        "generateText(\"a.txt\", 200)"
      ],
      "metadata": {
        "colab": {
          "base_uri": "https://localhost:8080/",
          "height": 139
        },
        "id": "ty7xcpq6-yVz",
        "outputId": "5a5d3d27-d534-45cd-d31f-19743b385d39"
      },
      "execution_count": null,
      "outputs": [
        {
          "output_type": "execute_result",
          "data": {
            "text/plain": [
              "'the holidays? I like poptars and spam. I get spam poptarts! Will I get spam and poptarts for the holidays? I like poptars and poptarts for the holidays? I like spam and spam. I get spam poptarts! Will I like spam poptarts! I get spam and spam. I like poptars and spam. Will I get spam poptarts! I like spam and spam. I get spam poptarts! Will I like poptars and poptarts for the holidays? I like spam poptarts! Will I like spam and 42 and poptarts for the holidays? I like poptars and poptarts for the holidays? I like spam and spam. I like poptars and poptarts for the holidays? I like spam and poptarts for the holidays? I like poptars and spam. I like spam and poptarts for the holidays? I get spam and 42 and spam. I like poptars and 42 and poptarts for the holidays? I get spam and 42 and spam. I get spam poptarts! I like poptars and poptarts for the holidays? I like poptars and poptarts for the holidays? I like spam poptarts! I like poptars and poptarts for the holidays? I like poptars and spam. Will I like poptars and spam. I like'"
            ],
            "application/vnd.google.colaboratory.intrinsic+json": {
              "type": "string"
            }
          },
          "metadata": {},
          "execution_count": 26
        }
      ]
    },
    {
      "cell_type": "code",
      "source": [],
      "metadata": {
        "id": "AIaCLdv8_-Hb"
      },
      "execution_count": null,
      "outputs": []
    }
  ]
}